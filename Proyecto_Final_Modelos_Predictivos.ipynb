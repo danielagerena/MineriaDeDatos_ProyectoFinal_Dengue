{
  "cells": [
    {
      "cell_type": "markdown",
      "metadata": {
        "id": "view-in-github",
        "colab_type": "text"
      },
      "source": [
        "<a href=\"https://colab.research.google.com/github/danielagerena/MineriaDeDatos_ProyectoFinal_Dengue/blob/main/Proyecto_Final_Modelos_Predictivos.ipynb\" target=\"_parent\"><img src=\"https://colab.research.google.com/assets/colab-badge.svg\" alt=\"Open In Colab\"/></a>"
      ]
    },
    {
      "cell_type": "markdown",
      "metadata": {
        "id": "Cbi7rd9dO5S8"
      },
      "source": [
        "# Clasificación final de dengue\n",
        "\n",
        "1. Preparación de Datos\n",
        "2. División de los datos 70-30\n",
        "3. Balanceo con el 70% de los datos\n",
        "4. Hacer transformaciones\n",
        "5. Aprendizaje del Modelo: Tree, Knn, NN, SVM, Bagging, XGBoosting, Stacking\n",
        "6. Evaluación del Modelo con 30% sin balanceo: Matriz de confusion, F1-score, Accuracy, Recall, ROC\n",
        "7. Elegir los 3 mejores modelos con ANOVA\n",
        "8. Hiperparametrízación y optimización bayesiana\n",
        "9. Elegir el mejor modelo y guardarlo"
      ]
    },
    {
      "cell_type": "markdown",
      "metadata": {
        "id": "9DS_gtazSrHZ"
      },
      "source": [
        "##1. Importar librerías básicas"
      ]
    },
    {
      "cell_type": "code",
      "execution_count": null,
      "metadata": {
        "id": "TBXqAh8Hebks"
      },
      "outputs": [],
      "source": [
        "import pandas as pd # manipulacion dataframes\n",
        "import numpy as np  # matrices y vectores\n",
        "import matplotlib.pyplot as plt #gráfica"
      ]
    },
    {
      "cell_type": "markdown",
      "metadata": {
        "id": "e9PIVPovS1Dz"
      },
      "source": [
        "##2. Cargamos los datos"
      ]
    },
    {
      "cell_type": "code",
      "execution_count": null,
      "metadata": {
        "id": "fZ25RhtMTJ6R"
      },
      "outputs": [],
      "source": [
        "df = pd.read_excel('datos_dengue_preparados.xlsx')"
      ]
    },
    {
      "cell_type": "code",
      "execution_count": null,
      "metadata": {
        "colab": {
          "base_uri": "https://localhost:8080/"
        },
        "id": "6fFa8L5FrcvI",
        "outputId": "21584156-4245-4520-fead-a3604b0ece67"
      },
      "outputs": [
        {
          "name": "stdout",
          "output_type": "stream",
          "text": [
            "<class 'pandas.core.frame.DataFrame'>\n",
            "RangeIndex: 10159 entries, 0 to 10158\n",
            "Data columns (total 15 columns):\n",
            " #   Column      Non-Null Count  Dtype \n",
            "---  ------      --------------  ----- \n",
            " 0   Unnamed: 0  10159 non-null  int64 \n",
            " 1   pac_hos_    10159 non-null  int64 \n",
            " 2   desplazami  10159 non-null  int64 \n",
            " 3   dolrretroo  10159 non-null  int64 \n",
            " 4   artralgia   10159 non-null  int64 \n",
            " 5   erupcionr   10159 non-null  int64 \n",
            " 6   dolor_abdo  10159 non-null  int64 \n",
            " 7   vomito      10159 non-null  int64 \n",
            " 8   diarrea     10159 non-null  int64 \n",
            " 9   caida_plaq  10159 non-null  int64 \n",
            " 10  extravasac  10159 non-null  int64 \n",
            " 11  hemorr_hem  10159 non-null  int64 \n",
            " 12  choque      10159 non-null  int64 \n",
            " 13  daño_organ  10159 non-null  int64 \n",
            " 14  clasfinal   10159 non-null  object\n",
            "dtypes: int64(14), object(1)\n",
            "memory usage: 1.2+ MB\n"
          ]
        }
      ],
      "source": [
        "df.info()"
      ]
    },
    {
      "cell_type": "code",
      "execution_count": null,
      "metadata": {
        "id": "1l3HaBamsGfw"
      },
      "outputs": [],
      "source": [
        "#Eliminar autonumérico\n",
        "df.drop('Unnamed: 0', axis=1, inplace=True)"
      ]
    },
    {
      "cell_type": "code",
      "execution_count": null,
      "metadata": {
        "colab": {
          "base_uri": "https://localhost:8080/"
        },
        "id": "94yDDmQtsR56",
        "outputId": "d7bd3764-38c5-4a88-8cdd-1852b700c11a"
      },
      "outputs": [
        {
          "data": {
            "text/plain": [
              "Index(['pac_hos_', 'desplazami', 'dolrretroo', 'artralgia', 'erupcionr',\n",
              "       'dolor_abdo', 'vomito', 'diarrea', 'caida_plaq', 'extravasac',\n",
              "       'hemorr_hem', 'choque', 'daño_organ', 'clasfinal'],\n",
              "      dtype='object')"
            ]
          },
          "execution_count": 5,
          "metadata": {},
          "output_type": "execute_result"
        }
      ],
      "source": [
        "df.columns"
      ]
    },
    {
      "cell_type": "code",
      "execution_count": null,
      "metadata": {
        "id": "hiUgvcZbUeya"
      },
      "outputs": [],
      "source": [
        "#Función para corrección del tipo de datos object a categorías\n",
        "def convertir_objeto_a_categoria(df):\n",
        "    \"\"\"\n",
        "    Convierte todas las columnas de tipo 'object' a 'category' en un DataFrame.\n",
        "\n",
        "    Parámetros:\n",
        "        df (pd.DataFrame): El DataFrame a procesar.\n",
        "\n",
        "    Retorna:\n",
        "        pd.DataFrame: El DataFrame con las columnas tipo objeto convertidas a categoría.\n",
        "    \"\"\"\n",
        "    columnas_convertidas = []\n",
        "    for col in df.columns:\n",
        "        df[col] = df[col].astype('category') #.select_dtypes(include='object')\n",
        "        columnas_convertidas.append(col)\n",
        "    print(f\"Columnas convertidas a 'category': {columnas_convertidas}\")\n",
        "    return df"
      ]
    },
    {
      "cell_type": "code",
      "execution_count": null,
      "metadata": {
        "colab": {
          "base_uri": "https://localhost:8080/"
        },
        "id": "ObvzO2AmUhpC",
        "outputId": "a2dc6ebb-bb73-48bc-84a3-bd3c12bcd6b3"
      },
      "outputs": [
        {
          "name": "stdout",
          "output_type": "stream",
          "text": [
            "Columnas convertidas a 'category': ['pac_hos_', 'desplazami', 'dolrretroo', 'artralgia', 'erupcionr', 'dolor_abdo', 'vomito', 'diarrea', 'caida_plaq', 'extravasac', 'hemorr_hem', 'choque', 'daño_organ', 'clasfinal']\n"
          ]
        }
      ],
      "source": [
        "df = convertir_objeto_a_categoria(df) #Todas las variables son categóricas"
      ]
    },
    {
      "cell_type": "code",
      "execution_count": null,
      "metadata": {
        "colab": {
          "base_uri": "https://localhost:8080/"
        },
        "id": "D2dlNZbuUrYi",
        "outputId": "6a9d091f-b7bb-4371-d6b7-8e4cb26c8797"
      },
      "outputs": [
        {
          "name": "stdout",
          "output_type": "stream",
          "text": [
            "<class 'pandas.core.frame.DataFrame'>\n",
            "RangeIndex: 10159 entries, 0 to 10158\n",
            "Data columns (total 14 columns):\n",
            " #   Column      Non-Null Count  Dtype   \n",
            "---  ------      --------------  -----   \n",
            " 0   pac_hos_    10159 non-null  category\n",
            " 1   desplazami  10159 non-null  category\n",
            " 2   dolrretroo  10159 non-null  category\n",
            " 3   artralgia   10159 non-null  category\n",
            " 4   erupcionr   10159 non-null  category\n",
            " 5   dolor_abdo  10159 non-null  category\n",
            " 6   vomito      10159 non-null  category\n",
            " 7   diarrea     10159 non-null  category\n",
            " 8   caida_plaq  10159 non-null  category\n",
            " 9   extravasac  10159 non-null  category\n",
            " 10  hemorr_hem  10159 non-null  category\n",
            " 11  choque      10159 non-null  category\n",
            " 12  daño_organ  10159 non-null  category\n",
            " 13  clasfinal   10159 non-null  category\n",
            "dtypes: category(14)\n",
            "memory usage: 140.7 KB\n"
          ]
        }
      ],
      "source": [
        "df.info()"
      ]
    },
    {
      "cell_type": "markdown",
      "metadata": {
        "id": "XDDR8EsiUa6T"
      },
      "source": [
        "##3. División 70-30"
      ]
    },
    {
      "cell_type": "markdown",
      "metadata": {
        "id": "TXFij5wKr3G0"
      },
      "source": [
        "###3.0. Codificación de variable objetivo antes de dividir"
      ]
    },
    {
      "cell_type": "code",
      "execution_count": null,
      "metadata": {
        "colab": {
          "base_uri": "https://localhost:8080/"
        },
        "id": "HY3SYAwqsftG",
        "outputId": "2c13c758-ecf0-4659-80d0-476f52c901f9"
      },
      "outputs": [
        {
          "data": {
            "application/vnd.google.colaboratory.intrinsic+json": {
              "summary": "{\n  \"name\": \"df\",\n  \"rows\": 10159,\n  \"fields\": [\n    {\n      \"column\": \"pac_hos_\",\n      \"properties\": {\n        \"dtype\": \"category\",\n        \"num_unique_values\": 2,\n        \"samples\": [\n          2,\n          1\n        ],\n        \"semantic_type\": \"\",\n        \"description\": \"\"\n      }\n    },\n    {\n      \"column\": \"desplazami\",\n      \"properties\": {\n        \"dtype\": \"category\",\n        \"num_unique_values\": 2,\n        \"samples\": [\n          1,\n          2\n        ],\n        \"semantic_type\": \"\",\n        \"description\": \"\"\n      }\n    },\n    {\n      \"column\": \"dolrretroo\",\n      \"properties\": {\n        \"dtype\": \"category\",\n        \"num_unique_values\": 2,\n        \"samples\": [\n          1,\n          2\n        ],\n        \"semantic_type\": \"\",\n        \"description\": \"\"\n      }\n    },\n    {\n      \"column\": \"artralgia\",\n      \"properties\": {\n        \"dtype\": \"category\",\n        \"num_unique_values\": 2,\n        \"samples\": [\n          1,\n          2\n        ],\n        \"semantic_type\": \"\",\n        \"description\": \"\"\n      }\n    },\n    {\n      \"column\": \"erupcionr\",\n      \"properties\": {\n        \"dtype\": \"category\",\n        \"num_unique_values\": 2,\n        \"samples\": [\n          1,\n          2\n        ],\n        \"semantic_type\": \"\",\n        \"description\": \"\"\n      }\n    },\n    {\n      \"column\": \"dolor_abdo\",\n      \"properties\": {\n        \"dtype\": \"category\",\n        \"num_unique_values\": 2,\n        \"samples\": [\n          2,\n          1\n        ],\n        \"semantic_type\": \"\",\n        \"description\": \"\"\n      }\n    },\n    {\n      \"column\": \"vomito\",\n      \"properties\": {\n        \"dtype\": \"category\",\n        \"num_unique_values\": 2,\n        \"samples\": [\n          2,\n          1\n        ],\n        \"semantic_type\": \"\",\n        \"description\": \"\"\n      }\n    },\n    {\n      \"column\": \"diarrea\",\n      \"properties\": {\n        \"dtype\": \"category\",\n        \"num_unique_values\": 2,\n        \"samples\": [\n          2,\n          1\n        ],\n        \"semantic_type\": \"\",\n        \"description\": \"\"\n      }\n    },\n    {\n      \"column\": \"caida_plaq\",\n      \"properties\": {\n        \"dtype\": \"category\",\n        \"num_unique_values\": 2,\n        \"samples\": [\n          1,\n          2\n        ],\n        \"semantic_type\": \"\",\n        \"description\": \"\"\n      }\n    },\n    {\n      \"column\": \"extravasac\",\n      \"properties\": {\n        \"dtype\": \"category\",\n        \"num_unique_values\": 2,\n        \"samples\": [\n          1,\n          2\n        ],\n        \"semantic_type\": \"\",\n        \"description\": \"\"\n      }\n    },\n    {\n      \"column\": \"hemorr_hem\",\n      \"properties\": {\n        \"dtype\": \"category\",\n        \"num_unique_values\": 2,\n        \"samples\": [\n          1,\n          2\n        ],\n        \"semantic_type\": \"\",\n        \"description\": \"\"\n      }\n    },\n    {\n      \"column\": \"choque\",\n      \"properties\": {\n        \"dtype\": \"category\",\n        \"num_unique_values\": 2,\n        \"samples\": [\n          1,\n          2\n        ],\n        \"semantic_type\": \"\",\n        \"description\": \"\"\n      }\n    },\n    {\n      \"column\": \"da\\u00f1o_organ\",\n      \"properties\": {\n        \"dtype\": \"category\",\n        \"num_unique_values\": 2,\n        \"samples\": [\n          1,\n          2\n        ],\n        \"semantic_type\": \"\",\n        \"description\": \"\"\n      }\n    },\n    {\n      \"column\": \"clasfinal\",\n      \"properties\": {\n        \"dtype\": \"number\",\n        \"std\": 0,\n        \"min\": 0,\n        \"max\": 2,\n        \"num_unique_values\": 3,\n        \"samples\": [\n          0,\n          2\n        ],\n        \"semantic_type\": \"\",\n        \"description\": \"\"\n      }\n    }\n  ]\n}",
              "type": "dataframe",
              "variable_name": "df"
            },
            "text/html": [
              "\n",
              "  <div id=\"df-d458b3f5-ee80-429f-926a-bb4d9781203c\" class=\"colab-df-container\">\n",
              "    <div>\n",
              "<style scoped>\n",
              "    .dataframe tbody tr th:only-of-type {\n",
              "        vertical-align: middle;\n",
              "    }\n",
              "\n",
              "    .dataframe tbody tr th {\n",
              "        vertical-align: top;\n",
              "    }\n",
              "\n",
              "    .dataframe thead th {\n",
              "        text-align: right;\n",
              "    }\n",
              "</style>\n",
              "<table border=\"1\" class=\"dataframe\">\n",
              "  <thead>\n",
              "    <tr style=\"text-align: right;\">\n",
              "      <th></th>\n",
              "      <th>pac_hos_</th>\n",
              "      <th>desplazami</th>\n",
              "      <th>dolrretroo</th>\n",
              "      <th>artralgia</th>\n",
              "      <th>erupcionr</th>\n",
              "      <th>dolor_abdo</th>\n",
              "      <th>vomito</th>\n",
              "      <th>diarrea</th>\n",
              "      <th>caida_plaq</th>\n",
              "      <th>extravasac</th>\n",
              "      <th>hemorr_hem</th>\n",
              "      <th>choque</th>\n",
              "      <th>daño_organ</th>\n",
              "      <th>clasfinal</th>\n",
              "    </tr>\n",
              "  </thead>\n",
              "  <tbody>\n",
              "    <tr>\n",
              "      <th>0</th>\n",
              "      <td>1</td>\n",
              "      <td>2</td>\n",
              "      <td>2</td>\n",
              "      <td>2</td>\n",
              "      <td>2</td>\n",
              "      <td>1</td>\n",
              "      <td>1</td>\n",
              "      <td>1</td>\n",
              "      <td>2</td>\n",
              "      <td>2</td>\n",
              "      <td>2</td>\n",
              "      <td>2</td>\n",
              "      <td>2</td>\n",
              "      <td>0</td>\n",
              "    </tr>\n",
              "    <tr>\n",
              "      <th>1</th>\n",
              "      <td>2</td>\n",
              "      <td>2</td>\n",
              "      <td>2</td>\n",
              "      <td>1</td>\n",
              "      <td>1</td>\n",
              "      <td>2</td>\n",
              "      <td>2</td>\n",
              "      <td>2</td>\n",
              "      <td>2</td>\n",
              "      <td>2</td>\n",
              "      <td>2</td>\n",
              "      <td>2</td>\n",
              "      <td>2</td>\n",
              "      <td>2</td>\n",
              "    </tr>\n",
              "    <tr>\n",
              "      <th>2</th>\n",
              "      <td>2</td>\n",
              "      <td>2</td>\n",
              "      <td>1</td>\n",
              "      <td>2</td>\n",
              "      <td>1</td>\n",
              "      <td>2</td>\n",
              "      <td>2</td>\n",
              "      <td>2</td>\n",
              "      <td>2</td>\n",
              "      <td>2</td>\n",
              "      <td>2</td>\n",
              "      <td>2</td>\n",
              "      <td>2</td>\n",
              "      <td>2</td>\n",
              "    </tr>\n",
              "    <tr>\n",
              "      <th>3</th>\n",
              "      <td>2</td>\n",
              "      <td>2</td>\n",
              "      <td>1</td>\n",
              "      <td>1</td>\n",
              "      <td>2</td>\n",
              "      <td>2</td>\n",
              "      <td>2</td>\n",
              "      <td>2</td>\n",
              "      <td>2</td>\n",
              "      <td>2</td>\n",
              "      <td>2</td>\n",
              "      <td>2</td>\n",
              "      <td>2</td>\n",
              "      <td>2</td>\n",
              "    </tr>\n",
              "    <tr>\n",
              "      <th>4</th>\n",
              "      <td>2</td>\n",
              "      <td>2</td>\n",
              "      <td>1</td>\n",
              "      <td>2</td>\n",
              "      <td>1</td>\n",
              "      <td>2</td>\n",
              "      <td>2</td>\n",
              "      <td>2</td>\n",
              "      <td>2</td>\n",
              "      <td>2</td>\n",
              "      <td>2</td>\n",
              "      <td>2</td>\n",
              "      <td>2</td>\n",
              "      <td>2</td>\n",
              "    </tr>\n",
              "    <tr>\n",
              "      <th>...</th>\n",
              "      <td>...</td>\n",
              "      <td>...</td>\n",
              "      <td>...</td>\n",
              "      <td>...</td>\n",
              "      <td>...</td>\n",
              "      <td>...</td>\n",
              "      <td>...</td>\n",
              "      <td>...</td>\n",
              "      <td>...</td>\n",
              "      <td>...</td>\n",
              "      <td>...</td>\n",
              "      <td>...</td>\n",
              "      <td>...</td>\n",
              "      <td>...</td>\n",
              "    </tr>\n",
              "    <tr>\n",
              "      <th>10154</th>\n",
              "      <td>2</td>\n",
              "      <td>2</td>\n",
              "      <td>2</td>\n",
              "      <td>1</td>\n",
              "      <td>1</td>\n",
              "      <td>2</td>\n",
              "      <td>2</td>\n",
              "      <td>2</td>\n",
              "      <td>2</td>\n",
              "      <td>2</td>\n",
              "      <td>2</td>\n",
              "      <td>2</td>\n",
              "      <td>2</td>\n",
              "      <td>2</td>\n",
              "    </tr>\n",
              "    <tr>\n",
              "      <th>10155</th>\n",
              "      <td>2</td>\n",
              "      <td>2</td>\n",
              "      <td>2</td>\n",
              "      <td>1</td>\n",
              "      <td>2</td>\n",
              "      <td>2</td>\n",
              "      <td>2</td>\n",
              "      <td>2</td>\n",
              "      <td>2</td>\n",
              "      <td>2</td>\n",
              "      <td>2</td>\n",
              "      <td>2</td>\n",
              "      <td>2</td>\n",
              "      <td>2</td>\n",
              "    </tr>\n",
              "    <tr>\n",
              "      <th>10156</th>\n",
              "      <td>2</td>\n",
              "      <td>2</td>\n",
              "      <td>2</td>\n",
              "      <td>1</td>\n",
              "      <td>2</td>\n",
              "      <td>2</td>\n",
              "      <td>2</td>\n",
              "      <td>2</td>\n",
              "      <td>2</td>\n",
              "      <td>2</td>\n",
              "      <td>2</td>\n",
              "      <td>2</td>\n",
              "      <td>2</td>\n",
              "      <td>2</td>\n",
              "    </tr>\n",
              "    <tr>\n",
              "      <th>10157</th>\n",
              "      <td>1</td>\n",
              "      <td>2</td>\n",
              "      <td>1</td>\n",
              "      <td>2</td>\n",
              "      <td>1</td>\n",
              "      <td>2</td>\n",
              "      <td>2</td>\n",
              "      <td>2</td>\n",
              "      <td>1</td>\n",
              "      <td>2</td>\n",
              "      <td>2</td>\n",
              "      <td>2</td>\n",
              "      <td>2</td>\n",
              "      <td>0</td>\n",
              "    </tr>\n",
              "    <tr>\n",
              "      <th>10158</th>\n",
              "      <td>1</td>\n",
              "      <td>2</td>\n",
              "      <td>2</td>\n",
              "      <td>2</td>\n",
              "      <td>1</td>\n",
              "      <td>2</td>\n",
              "      <td>2</td>\n",
              "      <td>2</td>\n",
              "      <td>2</td>\n",
              "      <td>1</td>\n",
              "      <td>2</td>\n",
              "      <td>2</td>\n",
              "      <td>2</td>\n",
              "      <td>1</td>\n",
              "    </tr>\n",
              "  </tbody>\n",
              "</table>\n",
              "<p>10159 rows × 14 columns</p>\n",
              "</div>\n",
              "    <div class=\"colab-df-buttons\">\n",
              "\n",
              "  <div class=\"colab-df-container\">\n",
              "    <button class=\"colab-df-convert\" onclick=\"convertToInteractive('df-d458b3f5-ee80-429f-926a-bb4d9781203c')\"\n",
              "            title=\"Convert this dataframe to an interactive table.\"\n",
              "            style=\"display:none;\">\n",
              "\n",
              "  <svg xmlns=\"http://www.w3.org/2000/svg\" height=\"24px\" viewBox=\"0 -960 960 960\">\n",
              "    <path d=\"M120-120v-720h720v720H120Zm60-500h600v-160H180v160Zm220 220h160v-160H400v160Zm0 220h160v-160H400v160ZM180-400h160v-160H180v160Zm440 0h160v-160H620v160ZM180-180h160v-160H180v160Zm440 0h160v-160H620v160Z\"/>\n",
              "  </svg>\n",
              "    </button>\n",
              "\n",
              "  <style>\n",
              "    .colab-df-container {\n",
              "      display:flex;\n",
              "      gap: 12px;\n",
              "    }\n",
              "\n",
              "    .colab-df-convert {\n",
              "      background-color: #E8F0FE;\n",
              "      border: none;\n",
              "      border-radius: 50%;\n",
              "      cursor: pointer;\n",
              "      display: none;\n",
              "      fill: #1967D2;\n",
              "      height: 32px;\n",
              "      padding: 0 0 0 0;\n",
              "      width: 32px;\n",
              "    }\n",
              "\n",
              "    .colab-df-convert:hover {\n",
              "      background-color: #E2EBFA;\n",
              "      box-shadow: 0px 1px 2px rgba(60, 64, 67, 0.3), 0px 1px 3px 1px rgba(60, 64, 67, 0.15);\n",
              "      fill: #174EA6;\n",
              "    }\n",
              "\n",
              "    .colab-df-buttons div {\n",
              "      margin-bottom: 4px;\n",
              "    }\n",
              "\n",
              "    [theme=dark] .colab-df-convert {\n",
              "      background-color: #3B4455;\n",
              "      fill: #D2E3FC;\n",
              "    }\n",
              "\n",
              "    [theme=dark] .colab-df-convert:hover {\n",
              "      background-color: #434B5C;\n",
              "      box-shadow: 0px 1px 3px 1px rgba(0, 0, 0, 0.15);\n",
              "      filter: drop-shadow(0px 1px 2px rgba(0, 0, 0, 0.3));\n",
              "      fill: #FFFFFF;\n",
              "    }\n",
              "  </style>\n",
              "\n",
              "    <script>\n",
              "      const buttonEl =\n",
              "        document.querySelector('#df-d458b3f5-ee80-429f-926a-bb4d9781203c button.colab-df-convert');\n",
              "      buttonEl.style.display =\n",
              "        google.colab.kernel.accessAllowed ? 'block' : 'none';\n",
              "\n",
              "      async function convertToInteractive(key) {\n",
              "        const element = document.querySelector('#df-d458b3f5-ee80-429f-926a-bb4d9781203c');\n",
              "        const dataTable =\n",
              "          await google.colab.kernel.invokeFunction('convertToInteractive',\n",
              "                                                    [key], {});\n",
              "        if (!dataTable) return;\n",
              "\n",
              "        const docLinkHtml = 'Like what you see? Visit the ' +\n",
              "          '<a target=\"_blank\" href=https://colab.research.google.com/notebooks/data_table.ipynb>data table notebook</a>'\n",
              "          + ' to learn more about interactive tables.';\n",
              "        element.innerHTML = '';\n",
              "        dataTable['output_type'] = 'display_data';\n",
              "        await google.colab.output.renderOutput(dataTable, element);\n",
              "        const docLink = document.createElement('div');\n",
              "        docLink.innerHTML = docLinkHtml;\n",
              "        element.appendChild(docLink);\n",
              "      }\n",
              "    </script>\n",
              "  </div>\n",
              "\n",
              "\n",
              "    <div id=\"df-b0fcebb9-77ff-41a1-a45f-21bfc8610fb5\">\n",
              "      <button class=\"colab-df-quickchart\" onclick=\"quickchart('df-b0fcebb9-77ff-41a1-a45f-21bfc8610fb5')\"\n",
              "                title=\"Suggest charts\"\n",
              "                style=\"display:none;\">\n",
              "\n",
              "<svg xmlns=\"http://www.w3.org/2000/svg\" height=\"24px\"viewBox=\"0 0 24 24\"\n",
              "     width=\"24px\">\n",
              "    <g>\n",
              "        <path d=\"M19 3H5c-1.1 0-2 .9-2 2v14c0 1.1.9 2 2 2h14c1.1 0 2-.9 2-2V5c0-1.1-.9-2-2-2zM9 17H7v-7h2v7zm4 0h-2V7h2v10zm4 0h-2v-4h2v4z\"/>\n",
              "    </g>\n",
              "</svg>\n",
              "      </button>\n",
              "\n",
              "<style>\n",
              "  .colab-df-quickchart {\n",
              "      --bg-color: #E8F0FE;\n",
              "      --fill-color: #1967D2;\n",
              "      --hover-bg-color: #E2EBFA;\n",
              "      --hover-fill-color: #174EA6;\n",
              "      --disabled-fill-color: #AAA;\n",
              "      --disabled-bg-color: #DDD;\n",
              "  }\n",
              "\n",
              "  [theme=dark] .colab-df-quickchart {\n",
              "      --bg-color: #3B4455;\n",
              "      --fill-color: #D2E3FC;\n",
              "      --hover-bg-color: #434B5C;\n",
              "      --hover-fill-color: #FFFFFF;\n",
              "      --disabled-bg-color: #3B4455;\n",
              "      --disabled-fill-color: #666;\n",
              "  }\n",
              "\n",
              "  .colab-df-quickchart {\n",
              "    background-color: var(--bg-color);\n",
              "    border: none;\n",
              "    border-radius: 50%;\n",
              "    cursor: pointer;\n",
              "    display: none;\n",
              "    fill: var(--fill-color);\n",
              "    height: 32px;\n",
              "    padding: 0;\n",
              "    width: 32px;\n",
              "  }\n",
              "\n",
              "  .colab-df-quickchart:hover {\n",
              "    background-color: var(--hover-bg-color);\n",
              "    box-shadow: 0 1px 2px rgba(60, 64, 67, 0.3), 0 1px 3px 1px rgba(60, 64, 67, 0.15);\n",
              "    fill: var(--button-hover-fill-color);\n",
              "  }\n",
              "\n",
              "  .colab-df-quickchart-complete:disabled,\n",
              "  .colab-df-quickchart-complete:disabled:hover {\n",
              "    background-color: var(--disabled-bg-color);\n",
              "    fill: var(--disabled-fill-color);\n",
              "    box-shadow: none;\n",
              "  }\n",
              "\n",
              "  .colab-df-spinner {\n",
              "    border: 2px solid var(--fill-color);\n",
              "    border-color: transparent;\n",
              "    border-bottom-color: var(--fill-color);\n",
              "    animation:\n",
              "      spin 1s steps(1) infinite;\n",
              "  }\n",
              "\n",
              "  @keyframes spin {\n",
              "    0% {\n",
              "      border-color: transparent;\n",
              "      border-bottom-color: var(--fill-color);\n",
              "      border-left-color: var(--fill-color);\n",
              "    }\n",
              "    20% {\n",
              "      border-color: transparent;\n",
              "      border-left-color: var(--fill-color);\n",
              "      border-top-color: var(--fill-color);\n",
              "    }\n",
              "    30% {\n",
              "      border-color: transparent;\n",
              "      border-left-color: var(--fill-color);\n",
              "      border-top-color: var(--fill-color);\n",
              "      border-right-color: var(--fill-color);\n",
              "    }\n",
              "    40% {\n",
              "      border-color: transparent;\n",
              "      border-right-color: var(--fill-color);\n",
              "      border-top-color: var(--fill-color);\n",
              "    }\n",
              "    60% {\n",
              "      border-color: transparent;\n",
              "      border-right-color: var(--fill-color);\n",
              "    }\n",
              "    80% {\n",
              "      border-color: transparent;\n",
              "      border-right-color: var(--fill-color);\n",
              "      border-bottom-color: var(--fill-color);\n",
              "    }\n",
              "    90% {\n",
              "      border-color: transparent;\n",
              "      border-bottom-color: var(--fill-color);\n",
              "    }\n",
              "  }\n",
              "</style>\n",
              "\n",
              "      <script>\n",
              "        async function quickchart(key) {\n",
              "          const quickchartButtonEl =\n",
              "            document.querySelector('#' + key + ' button');\n",
              "          quickchartButtonEl.disabled = true;  // To prevent multiple clicks.\n",
              "          quickchartButtonEl.classList.add('colab-df-spinner');\n",
              "          try {\n",
              "            const charts = await google.colab.kernel.invokeFunction(\n",
              "                'suggestCharts', [key], {});\n",
              "          } catch (error) {\n",
              "            console.error('Error during call to suggestCharts:', error);\n",
              "          }\n",
              "          quickchartButtonEl.classList.remove('colab-df-spinner');\n",
              "          quickchartButtonEl.classList.add('colab-df-quickchart-complete');\n",
              "        }\n",
              "        (() => {\n",
              "          let quickchartButtonEl =\n",
              "            document.querySelector('#df-b0fcebb9-77ff-41a1-a45f-21bfc8610fb5 button');\n",
              "          quickchartButtonEl.style.display =\n",
              "            google.colab.kernel.accessAllowed ? 'block' : 'none';\n",
              "        })();\n",
              "      </script>\n",
              "    </div>\n",
              "\n",
              "  <div id=\"id_ed06fa7b-83cd-4ba7-ae10-db4c6aa45b86\">\n",
              "    <style>\n",
              "      .colab-df-generate {\n",
              "        background-color: #E8F0FE;\n",
              "        border: none;\n",
              "        border-radius: 50%;\n",
              "        cursor: pointer;\n",
              "        display: none;\n",
              "        fill: #1967D2;\n",
              "        height: 32px;\n",
              "        padding: 0 0 0 0;\n",
              "        width: 32px;\n",
              "      }\n",
              "\n",
              "      .colab-df-generate:hover {\n",
              "        background-color: #E2EBFA;\n",
              "        box-shadow: 0px 1px 2px rgba(60, 64, 67, 0.3), 0px 1px 3px 1px rgba(60, 64, 67, 0.15);\n",
              "        fill: #174EA6;\n",
              "      }\n",
              "\n",
              "      [theme=dark] .colab-df-generate {\n",
              "        background-color: #3B4455;\n",
              "        fill: #D2E3FC;\n",
              "      }\n",
              "\n",
              "      [theme=dark] .colab-df-generate:hover {\n",
              "        background-color: #434B5C;\n",
              "        box-shadow: 0px 1px 3px 1px rgba(0, 0, 0, 0.15);\n",
              "        filter: drop-shadow(0px 1px 2px rgba(0, 0, 0, 0.3));\n",
              "        fill: #FFFFFF;\n",
              "      }\n",
              "    </style>\n",
              "    <button class=\"colab-df-generate\" onclick=\"generateWithVariable('df')\"\n",
              "            title=\"Generate code using this dataframe.\"\n",
              "            style=\"display:none;\">\n",
              "\n",
              "  <svg xmlns=\"http://www.w3.org/2000/svg\" height=\"24px\"viewBox=\"0 0 24 24\"\n",
              "       width=\"24px\">\n",
              "    <path d=\"M7,19H8.4L18.45,9,17,7.55,7,17.6ZM5,21V16.75L18.45,3.32a2,2,0,0,1,2.83,0l1.4,1.43a1.91,1.91,0,0,1,.58,1.4,1.91,1.91,0,0,1-.58,1.4L9.25,21ZM18.45,9,17,7.55Zm-12,3A5.31,5.31,0,0,0,4.9,8.1,5.31,5.31,0,0,0,1,6.5,5.31,5.31,0,0,0,4.9,4.9,5.31,5.31,0,0,0,6.5,1,5.31,5.31,0,0,0,8.1,4.9,5.31,5.31,0,0,0,12,6.5,5.46,5.46,0,0,0,6.5,12Z\"/>\n",
              "  </svg>\n",
              "    </button>\n",
              "    <script>\n",
              "      (() => {\n",
              "      const buttonEl =\n",
              "        document.querySelector('#id_ed06fa7b-83cd-4ba7-ae10-db4c6aa45b86 button.colab-df-generate');\n",
              "      buttonEl.style.display =\n",
              "        google.colab.kernel.accessAllowed ? 'block' : 'none';\n",
              "\n",
              "      buttonEl.onclick = () => {\n",
              "        google.colab.notebook.generateWithVariable('df');\n",
              "      }\n",
              "      })();\n",
              "    </script>\n",
              "  </div>\n",
              "\n",
              "    </div>\n",
              "  </div>\n"
            ],
            "text/plain": [
              "      pac_hos_ desplazami dolrretroo artralgia erupcionr dolor_abdo vomito  \\\n",
              "0            1          2          2         2         2          1      1   \n",
              "1            2          2          2         1         1          2      2   \n",
              "2            2          2          1         2         1          2      2   \n",
              "3            2          2          1         1         2          2      2   \n",
              "4            2          2          1         2         1          2      2   \n",
              "...        ...        ...        ...       ...       ...        ...    ...   \n",
              "10154        2          2          2         1         1          2      2   \n",
              "10155        2          2          2         1         2          2      2   \n",
              "10156        2          2          2         1         2          2      2   \n",
              "10157        1          2          1         2         1          2      2   \n",
              "10158        1          2          2         2         1          2      2   \n",
              "\n",
              "      diarrea caida_plaq extravasac hemorr_hem choque daño_organ  clasfinal  \n",
              "0           1          2          2          2      2          2          0  \n",
              "1           2          2          2          2      2          2          2  \n",
              "2           2          2          2          2      2          2          2  \n",
              "3           2          2          2          2      2          2          2  \n",
              "4           2          2          2          2      2          2          2  \n",
              "...       ...        ...        ...        ...    ...        ...        ...  \n",
              "10154       2          2          2          2      2          2          2  \n",
              "10155       2          2          2          2      2          2          2  \n",
              "10156       2          2          2          2      2          2          2  \n",
              "10157       2          1          2          2      2          2          0  \n",
              "10158       2          2          1          2      2          2          1  \n",
              "\n",
              "[10159 rows x 14 columns]"
            ]
          },
          "execution_count": 9,
          "metadata": {},
          "output_type": "execute_result"
        }
      ],
      "source": [
        "#LabelEncoder para la variable objetivo\n",
        "from sklearn.preprocessing import LabelEncoder\n",
        "labelencoder = LabelEncoder()\n",
        "df['clasfinal'] =labelencoder.fit_transform(df['clasfinal'])\n",
        "\n",
        "df"
      ]
    },
    {
      "cell_type": "code",
      "execution_count": null,
      "metadata": {
        "colab": {
          "base_uri": "https://localhost:8080/"
        },
        "id": "g-Fqh63sUfIz",
        "outputId": "a7894b8b-7f72-4d79-9a12-2d182705628d"
      },
      "outputs": [
        {
          "data": {
            "text/plain": [
              "<Axes: xlabel='clasfinal'>"
            ]
          },
          "execution_count": 10,
          "metadata": {},
          "output_type": "execute_result"
        },
        {
          "data": {
            "image/png": "[encoded data removed]",
            "text/plain": [
              "<Figure size 640x480 with 1 Axes>"
            ]
          },
          "metadata": {},
          "output_type": "display_data"
        }
      ],
      "source": [
        "#División 70-30\n",
        "from sklearn.model_selection import train_test_split\n",
        "X = df.drop(\"clasfinal\", axis = 1) # Variables predictoras\n",
        "Y = df['clasfinal'] #Variable objetivo\n",
        "X_train, X_test, Y_train, Y_test = train_test_split(X, Y, test_size=0.3, stratify=Y) #Muestreo estratificado\n",
        "Y_train.value_counts().plot(kind='bar')# Objetivo del 70%\n",
        "#NO cambiar el orden de las x_train...\n",
        "#X_train, Y_train se hace balanceo, CV, y testeo con x_test\n",
        "\n",
        "#Vables pred, Vable obj, test_size porcentaje, stratified en true cuando el CLASIFICACIÓN"
      ]
    },
    {
      "cell_type": "code",
      "execution_count": null,
      "metadata": {
        "colab": {
          "base_uri": "https://localhost:8080/"
        },
        "id": "KCpTIvsoZmx5",
        "outputId": "73f3fbc0-bb83-4e84-e460-de57fd5e65b5"
      },
      "outputs": [
        {
          "data": {
            "text/html": [
              "<div>\n",
              "<style scoped>\n",
              "    .dataframe tbody tr th:only-of-type {\n",
              "        vertical-align: middle;\n",
              "    }\n",
              "\n",
              "    .dataframe tbody tr th {\n",
              "        vertical-align: top;\n",
              "    }\n",
              "\n",
              "    .dataframe thead th {\n",
              "        text-align: right;\n",
              "    }\n",
              "</style>\n",
              "<table border=\"1\" class=\"dataframe\">\n",
              "  <thead>\n",
              "    <tr style=\"text-align: right;\">\n",
              "      <th></th>\n",
              "      <th>count</th>\n",
              "    </tr>\n",
              "    <tr>\n",
              "      <th>clasfinal</th>\n",
              "      <th></th>\n",
              "    </tr>\n",
              "  </thead>\n",
              "  <tbody>\n",
              "    <tr>\n",
              "      <th>0</th>\n",
              "      <td>4271</td>\n",
              "    </tr>\n",
              "    <tr>\n",
              "      <th>2</th>\n",
              "      <td>2822</td>\n",
              "    </tr>\n",
              "    <tr>\n",
              "      <th>1</th>\n",
              "      <td>18</td>\n",
              "    </tr>\n",
              "  </tbody>\n",
              "</table>\n",
              "</div><br><label><b>dtype:</b> int64</label>"
            ],
            "text/plain": [
              "clasfinal\n",
              "0    4271\n",
              "2    2822\n",
              "1      18\n",
              "Name: count, dtype: int64"
            ]
          },
          "execution_count": 11,
          "metadata": {},
          "output_type": "execute_result"
        }
      ],
      "source": [
        "Y_train.value_counts()"
      ]
    },
    {
      "cell_type": "code",
      "execution_count": null,
      "metadata": {
        "colab": {
          "base_uri": "https://localhost:8080/"
        },
        "id": "-EKC0DuFU_cW",
        "outputId": "cc300fb4-060b-4a37-c0fc-785a0544ccc4"
      },
      "outputs": [
        {
          "data": {
            "text/plain": [
              "<Axes: xlabel='clasfinal'>"
            ]
          },
          "execution_count": 12,
          "metadata": {},
          "output_type": "execute_result"
        },
        {
          "data": {
            "image/png": "[encoded data removed]",
            "text/plain": [
              "<Figure size 640x480 with 1 Axes>"
            ]
          },
          "metadata": {},
          "output_type": "display_data"
        }
      ],
      "source": [
        "#Graficar y_test\n",
        "Y_test.value_counts().plot(kind='bar')"
      ]
    },
    {
      "cell_type": "code",
      "execution_count": null,
      "metadata": {
        "colab": {
          "base_uri": "https://localhost:8080/"
        },
        "id": "GRkDRaEBXxHb",
        "outputId": "4abb455f-6466-4dac-b9ba-1af76a2f2a9a"
      },
      "outputs": [
        {
          "data": {
            "text/html": [
              "<div>\n",
              "<style scoped>\n",
              "    .dataframe tbody tr th:only-of-type {\n",
              "        vertical-align: middle;\n",
              "    }\n",
              "\n",
              "    .dataframe tbody tr th {\n",
              "        vertical-align: top;\n",
              "    }\n",
              "\n",
              "    .dataframe thead th {\n",
              "        text-align: right;\n",
              "    }\n",
              "</style>\n",
              "<table border=\"1\" class=\"dataframe\">\n",
              "  <thead>\n",
              "    <tr style=\"text-align: right;\">\n",
              "      <th></th>\n",
              "      <th>count</th>\n",
              "    </tr>\n",
              "    <tr>\n",
              "      <th>clasfinal</th>\n",
              "      <th></th>\n",
              "    </tr>\n",
              "  </thead>\n",
              "  <tbody>\n",
              "    <tr>\n",
              "      <th>0</th>\n",
              "      <td>1831</td>\n",
              "    </tr>\n",
              "    <tr>\n",
              "      <th>2</th>\n",
              "      <td>1209</td>\n",
              "    </tr>\n",
              "    <tr>\n",
              "      <th>1</th>\n",
              "      <td>8</td>\n",
              "    </tr>\n",
              "  </tbody>\n",
              "</table>\n",
              "</div><br><label><b>dtype:</b> int64</label>"
            ],
            "text/plain": [
              "clasfinal\n",
              "0    1831\n",
              "2    1209\n",
              "1       8\n",
              "Name: count, dtype: int64"
            ]
          },
          "execution_count": 13,
          "metadata": {},
          "output_type": "execute_result"
        }
      ],
      "source": [
        "Y_test.value_counts()"
      ]
    },
    {
      "cell_type": "code",
      "execution_count": null,
      "metadata": {
        "id": "HGoxssLoVEUJ"
      },
      "outputs": [],
      "source": [
        "X = df.drop(\"clasfinal\", axis = 1)\n",
        "Y = df['clasfinal']"
      ]
    },
    {
      "cell_type": "markdown",
      "metadata": {
        "id": "LvoK5lxvWv4K"
      },
      "source": [
        "##4. Balanceo con el 70% de los datos"
      ]
    },
    {
      "cell_type": "code",
      "execution_count": null,
      "metadata": {
        "id": "3QF43E3mviZ_"
      },
      "outputs": [],
      "source": [
        "from imblearn.over_sampling import SMOTEN\n",
        "import numpy as np\n",
        "\n",
        "# Calcular el 50% de la clase mayoritaria (0)\n",
        "n_majority = sum(Y_train == 0)\n",
        "target_minority = int(0.5 * n_majority)\n",
        "\n",
        "# Estrategia de muestreo: solo aumentar la clase 1 (DENGUE GRAVE)\n",
        "sampling_strategy = {1: target_minority}\n",
        "\n",
        "# Aplicar SMOTEN solo al conjunto de entrenamiento\n",
        "smote = SMOTEN(\n",
        "    sampling_strategy=sampling_strategy,\n",
        "    k_neighbors=min(7, sum(Y_train == 1) - 1),  # Ajustar según muestras disponibles\n",
        "    random_state=42\n",
        ")\n",
        "\n",
        "X_train_smote, Y_train_smote = smote.fit_resample(X_train, Y_train)"
      ]
    },
    {
      "cell_type": "code",
      "execution_count": null,
      "metadata": {
        "colab": {
          "base_uri": "https://localhost:8080/"
        },
        "id": "yesiczURvrXN",
        "outputId": "f6c27f96-d3d3-4586-b224-460ee45ee6a8"
      },
      "outputs": [
        {
          "name": "stdout",
          "output_type": "stream",
          "text": [
            "Distribución después de balanceo:\n",
            "clasfinal\n",
            "0    4271\n",
            "2    2822\n",
            "1    2135\n",
            "Name: count, dtype: int64\n"
          ]
        }
      ],
      "source": [
        "print(\"Distribución después de balanceo:\")\n",
        "print(pd.Series(Y_train_smote).value_counts())\n",
        "\n",
        "# Resultado esperado (ejemplo):\n",
        "# 0    4271  # Clase mayoritaria (original)\n",
        "# 2    2822  # Clase intermedia (original)\n",
        "# 1    2135  # Clase minoritaria (50% de 4271)"
      ]
    },
    {
      "cell_type": "code",
      "execution_count": null,
      "metadata": {
        "colab": {
          "base_uri": "https://localhost:8080/"
        },
        "id": "LYCb71wcjvcp",
        "outputId": "c110ca32-e062-4009-d3a4-f7d641623e69"
      },
      "outputs": [
        {
          "data": {
            "text/plain": [
              "<Axes: xlabel='clasfinal'>"
            ]
          },
          "execution_count": 17,
          "metadata": {},
          "output_type": "execute_result"
        },
        {
          "data": {
            "image/png": "[encoded data removed]",
            "text/plain": [
              "<Figure size 640x480 with 1 Axes>"
            ]
          },
          "metadata": {},
          "output_type": "display_data"
        }
      ],
      "source": [
        "Y_train_smote.value_counts().plot(kind='bar')"
      ]
    },
    {
      "cell_type": "markdown",
      "metadata": {
        "id": "AbRWRhr5fOFk"
      },
      "source": [
        "###4.0. Validación cruzada con el 70% de los datos"
      ]
    },
    {
      "cell_type": "code",
      "execution_count": null,
      "metadata": {
        "id": "AT1AvtdEoI8k"
      },
      "outputs": [],
      "source": [
        "#Crear dummies POST-balanceo (solo en train)\n",
        "def crear_dummies_balanceadas(df, exclude_cols=[]):\n",
        "    \"\"\"Versión optimizada para datos balanceados\"\"\"\n",
        "    df_dummies = df.copy()\n",
        "    for col in df.select_dtypes(include='category').columns:\n",
        "        if col not in exclude_cols:\n",
        "            dummies = pd.get_dummies(\n",
        "                df_dummies[col],\n",
        "                prefix=col,\n",
        "                drop_first=(df_dummies[col].nunique() == 2),\n",
        "                dtype=int\n",
        "            )\n",
        "            df_dummies = pd.concat([df_dummies.drop(columns=[col]), dummies], axis=1)\n",
        "    return df_dummies"
      ]
    },
    {
      "cell_type": "code",
      "execution_count": null,
      "metadata": {
        "id": "6G2TpWgkoNFW"
      },
      "outputs": [],
      "source": [
        "X_train_smote = crear_dummies_balanceadas(X_train_smote)\n",
        "X_test = crear_dummies_balanceadas(X_test) #Test sin SMOTE"
      ]
    },
    {
      "cell_type": "code",
      "execution_count": null,
      "metadata": {
        "id": "UW58Di6CfTXT"
      },
      "outputs": [],
      "source": [
        "#Validación Cruzada para clasificación con el 70% de los datos\n",
        "from sklearn.model_selection import cross_validate, StratifiedKFold\n",
        "\n",
        "#Dataframe para comparar los modelos\n",
        "comparacion_CV=pd.DataFrame()\n",
        "\n",
        "cv = StratifiedKFold(n_splits=10, shuffle=True, random_state=42)\n",
        "scoring = {\n",
        "    'f1_weighted': 'f1_weighted',\n",
        "    'accuracy': 'accuracy',\n",
        "    'precision_macro': 'precision_macro',\n",
        "    'recall_macro': 'recall_macro',\n",
        "    'roc_auc_ovo': 'roc_auc_ovo'\n",
        "}"
      ]
    },
    {
      "cell_type": "markdown",
      "metadata": {
        "id": "hFlojnnobThh"
      },
      "source": [
        "##4.1. Árbol de decisión\n",
        "No se hacen transformaciones para el árbol\n"
      ]
    },
    {
      "cell_type": "code",
      "execution_count": null,
      "metadata": {
        "id": "xt6IS6ch1RFO"
      },
      "outputs": [],
      "source": [
        "from sklearn.tree import DecisionTreeClassifier\n",
        "from sklearn.model_selection import cross_validate\n",
        "import pandas as pd\n",
        "\n",
        "#Configurar el modelo\n",
        "model_tree = DecisionTreeClassifier(\n",
        "    criterion='gini',\n",
        "    min_samples_leaf=200,       # Controla el sobreajuste en hojas\n",
        "    max_depth=None,             # Permite que el árbol crezca completamente\n",
        "    random_state=42             # Para reproducibilidad\n",
        ")\n",
        "\n",
        "# 3. Ejecutar validación cruzada (usando los datos YA BALANCEADOS)\n",
        "scores = cross_validate(\n",
        "    estimator=model_tree,\n",
        "    X=X_train_smote,              # Datos de entrenamiento balanceados\n",
        "    y=Y_train_smote,              # Variable objetivo balanceada\n",
        "    cv=cv,\n",
        "    scoring=scoring,\n",
        "    return_train_score=True,\n",
        "    return_estimator=False       # No necesitamos los estimadores para este análisis\n",
        ")"
      ]
    },
    {
      "cell_type": "code",
      "execution_count": null,
      "metadata": {
        "colab": {
          "base_uri": "https://localhost:8080/"
        },
        "id": "ruY06GDV6YdK",
        "outputId": "ca33618e-0f9f-4b09-8166-4da5f64b83b0"
      },
      "outputs": [
        {
          "name": "stdout",
          "output_type": "stream",
          "text": [
            "\n",
            "Resultados de Validación Cruzada (Promedio):\n",
            "test_f1_weighted     0.917337\n",
            "test_accuracy        0.917857\n",
            "test_recall_macro    0.926788\n",
            "dtype: float64\n"
          ]
        }
      ],
      "source": [
        "# 4. Convertir resultados a DataFrame y mostrar métricas clave\n",
        "scores_df = pd.DataFrame(scores)\n",
        "print(\"\\nResultados de Validación Cruzada (Promedio):\")\n",
        "print(scores_df.mean()[['test_f1_weighted', 'test_accuracy', 'test_recall_macro']])\n"
      ]
    },
    {
      "cell_type": "code",
      "execution_count": null,
      "metadata": {
        "colab": {
          "base_uri": "https://localhost:8080/"
        },
        "id": "F1ChmM6t6ai5",
        "outputId": "d6b5b2dc-b09d-458b-dff5-8f3724c7d232"
      },
      "outputs": [
        {
          "data": {
            "image/png": "[encoded data removed]",
            "text/plain": [
              "<Figure size 2000x1000 with 1 Axes>"
            ]
          },
          "metadata": {},
          "output_type": "display_data"
        }
      ],
      "source": [
        "#Visualización del árbol (opcional)\n",
        "from sklearn.tree import plot_tree\n",
        "import matplotlib.pyplot as plt\n",
        "\n",
        "plt.figure(figsize=(20,10))\n",
        "plot_tree(\n",
        "    model_tree.fit(X_train_smote, Y_train_smote),\n",
        "    feature_names=X_train_smote.columns,\n",
        "    class_names=labelencoder.classes_,\n",
        "    filled=True,\n",
        "    rounded=True\n",
        ")\n",
        "plt.title(\"Árbol de Decisión para Clasificación de Dengue\")\n",
        "plt.show()"
      ]
    },
    {
      "cell_type": "code",
      "execution_count": null,
      "metadata": {
        "colab": {
          "base_uri": "https://localhost:8080/"
        },
        "id": "oMTa5N5ues_R",
        "outputId": "4c408361-ec54-4549-ff97-629d850c1bb5"
      },
      "outputs": [
        {
          "data": {
            "text/html": [
              "<div>\n",
              "<style scoped>\n",
              "    .dataframe tbody tr th:only-of-type {\n",
              "        vertical-align: middle;\n",
              "    }\n",
              "\n",
              "    .dataframe tbody tr th {\n",
              "        vertical-align: top;\n",
              "    }\n",
              "\n",
              "    .dataframe thead th {\n",
              "        text-align: right;\n",
              "    }\n",
              "</style>\n",
              "<table border=\"1\" class=\"dataframe\">\n",
              "  <thead>\n",
              "    <tr style=\"text-align: right;\">\n",
              "      <th></th>\n",
              "      <th>0</th>\n",
              "    </tr>\n",
              "  </thead>\n",
              "  <tbody>\n",
              "    <tr>\n",
              "      <th>fit_time</th>\n",
              "      <td>0.007150</td>\n",
              "    </tr>\n",
              "    <tr>\n",
              "      <th>score_time</th>\n",
              "      <td>0.015600</td>\n",
              "    </tr>\n",
              "    <tr>\n",
              "      <th>test_f1_weighted</th>\n",
              "      <td>0.917337</td>\n",
              "    </tr>\n",
              "    <tr>\n",
              "      <th>train_f1_weighted</th>\n",
              "      <td>0.918938</td>\n",
              "    </tr>\n",
              "    <tr>\n",
              "      <th>test_accuracy</th>\n",
              "      <td>0.917857</td>\n",
              "    </tr>\n",
              "    <tr>\n",
              "      <th>train_accuracy</th>\n",
              "      <td>0.919424</td>\n",
              "    </tr>\n",
              "    <tr>\n",
              "      <th>test_precision_macro</th>\n",
              "      <td>0.919078</td>\n",
              "    </tr>\n",
              "    <tr>\n",
              "      <th>train_precision_macro</th>\n",
              "      <td>0.920222</td>\n",
              "    </tr>\n",
              "    <tr>\n",
              "      <th>test_recall_macro</th>\n",
              "      <td>0.926788</td>\n",
              "    </tr>\n",
              "    <tr>\n",
              "      <th>train_recall_macro</th>\n",
              "      <td>0.928184</td>\n",
              "    </tr>\n",
              "    <tr>\n",
              "      <th>test_roc_auc_ovo</th>\n",
              "      <td>0.976028</td>\n",
              "    </tr>\n",
              "    <tr>\n",
              "      <th>train_roc_auc_ovo</th>\n",
              "      <td>0.976569</td>\n",
              "    </tr>\n",
              "  </tbody>\n",
              "</table>\n",
              "</div><br><label><b>dtype:</b> float64</label>"
            ],
            "text/plain": [
              "fit_time                 0.007150\n",
              "score_time               0.015600\n",
              "test_f1_weighted         0.917337\n",
              "train_f1_weighted        0.918938\n",
              "test_accuracy            0.917857\n",
              "train_accuracy           0.919424\n",
              "test_precision_macro     0.919078\n",
              "train_precision_macro    0.920222\n",
              "test_recall_macro        0.926788\n",
              "train_recall_macro       0.928184\n",
              "test_roc_auc_ovo         0.976028\n",
              "train_roc_auc_ovo        0.976569\n",
              "dtype: float64"
            ]
          },
          "execution_count": 24,
          "metadata": {},
          "output_type": "execute_result"
        }
      ],
      "source": [
        "# Promedios\n",
        "scores_df.mean()"
      ]
    },
    {
      "cell_type": "code",
      "execution_count": null,
      "metadata": {
        "colab": {
          "base_uri": "https://localhost:8080/"
        },
        "id": "omYZC_AWgG-2",
        "outputId": "b0f4205e-fcfc-486f-8cfd-1f0977f91782"
      },
      "outputs": [
        {
          "name": "stdout",
          "output_type": "stream",
          "text": [
            "       Tree  Tree_train\n",
            "0  0.909297    0.916398\n",
            "1  0.932526    0.913820\n",
            "2  0.898697    0.917604\n",
            "3  0.931203    0.924474\n",
            "4  0.913863    0.915897\n",
            "5  0.914970    0.915773\n",
            "6  0.919441    0.928518\n",
            "7  0.933477    0.924223\n",
            "8  0.912679    0.916030\n",
            "9  0.907211    0.916645\n"
          ]
        }
      ],
      "source": [
        "#Se almacena en el df la medida a comparar CON TEST\n",
        "comparacion_CV['Tree']=scores_df['test_f1_weighted']\n",
        "comparacion_CV['Tree_train']=scores_df['train_f1_weighted']\n",
        "print(comparacion_CV)"
      ]
    },
    {
      "cell_type": "code",
      "execution_count": null,
      "metadata": {
        "colab": {
          "base_uri": "https://localhost:8080/"
        },
        "id": "rZU41sDegNPu",
        "outputId": "de846111-54fc-4f33-dbee-31c70fc540bb"
      },
      "outputs": [
        {
          "data": {
            "text/html": [
              "<style>#sk-container-id-1 {\n",
              "  /* Definition of color scheme common for light and dark mode */\n",
              "  --sklearn-color-text: #000;\n",
              "  --sklearn-color-text-muted: #666;\n",
              "  --sklearn-color-line: gray;\n",
              "  /* Definition of color scheme for unfitted estimators */\n",
              "  --sklearn-color-unfitted-level-0: #fff5e6;\n",
              "  --sklearn-color-unfitted-level-1: #f6e4d2;\n",
              "  --sklearn-color-unfitted-level-2: #ffe0b3;\n",
              "  --sklearn-color-unfitted-level-3: chocolate;\n",
              "  /* Definition of color scheme for fitted estimators */\n",
              "  --sklearn-color-fitted-level-0: #f0f8ff;\n",
              "  --sklearn-color-fitted-level-1: #d4ebff;\n",
              "  --sklearn-color-fitted-level-2: #b3dbfd;\n",
              "  --sklearn-color-fitted-level-3: cornflowerblue;\n",
              "\n",
              "  /* Specific color for light theme */\n",
              "  --sklearn-color-text-on-default-background: var(--sg-text-color, var(--theme-code-foreground, var(--jp-content-font-color1, black)));\n",
              "  --sklearn-color-background: var(--sg-background-color, var(--theme-background, var(--jp-layout-color0, white)));\n",
              "  --sklearn-color-border-box: var(--sg-text-color, var(--theme-code-foreground, var(--jp-content-font-color1, black)));\n",
              "  --sklearn-color-icon: #696969;\n",
              "\n",
              "  @media (prefers-color-scheme: dark) {\n",
              "    /* Redefinition of color scheme for dark theme */\n",
              "    --sklearn-color-text-on-default-background: var(--sg-text-color, var(--theme-code-foreground, var(--jp-content-font-color1, white)));\n",
              "    --sklearn-color-background: var(--sg-background-color, var(--theme-background, var(--jp-layout-color0, #111)));\n",
              "    --sklearn-color-border-box: var(--sg-text-color, var(--theme-code-foreground, var(--jp-content-font-color1, white)));\n",
              "    --sklearn-color-icon: #878787;\n",
              "  }\n",
              "}\n",
              "\n",
              "#sk-container-id-1 {\n",
              "  color: var(--sklearn-color-text);\n",
              "}\n",
              "\n",
              "#sk-container-id-1 pre {\n",
              "  padding: 0;\n",
              "}\n",
              "\n",
              "#sk-container-id-1 input.sk-hidden--visually {\n",
              "  border: 0;\n",
              "  clip: rect(1px 1px 1px 1px);\n",
              "  clip: rect(1px, 1px, 1px, 1px);\n",
              "  height: 1px;\n",
              "  margin: -1px;\n",
              "  overflow: hidden;\n",
              "  padding: 0;\n",
              "  position: absolute;\n",
              "  width: 1px;\n",
              "}\n",
              "\n",
              "#sk-container-id-1 div.sk-dashed-wrapped {\n",
              "  border: 1px dashed var(--sklearn-color-line);\n",
              "  margin: 0 0.4em 0.5em 0.4em;\n",
              "  box-sizing: border-box;\n",
              "  padding-bottom: 0.4em;\n",
              "  background-color: var(--sklearn-color-background);\n",
              "}\n",
              "\n",
              "#sk-container-id-1 div.sk-container {\n",
              "  /* jupyter's `normalize.less` sets `[hidden] { display: none; }`\n",
              "     but bootstrap.min.css set `[hidden] { display: none !important; }`\n",
              "     so we also need the `!important` here to be able to override the\n",
              "     default hidden behavior on the sphinx rendered scikit-learn.org.\n",
              "     See: https://github.com/scikit-learn/scikit-learn/issues/21755 */\n",
              "  display: inline-block !important;\n",
              "  position: relative;\n",
              "}\n",
              "\n",
              "#sk-container-id-1 div.sk-text-repr-fallback {\n",
              "  display: none;\n",
              "}\n",
              "\n",
              "div.sk-parallel-item,\n",
              "div.sk-serial,\n",
              "div.sk-item {\n",
              "  /* draw centered vertical line to link estimators */\n",
              "  background-image: linear-gradient(var(--sklearn-color-text-on-default-background), var(--sklearn-color-text-on-default-background));\n",
              "  background-size: 2px 100%;\n",
              "  background-repeat: no-repeat;\n",
              "  background-position: center center;\n",
              "}\n",
              "\n",
              "/* Parallel-specific style estimator block */\n",
              "\n",
              "#sk-container-id-1 div.sk-parallel-item::after {\n",
              "  content: \"\";\n",
              "  width: 100%;\n",
              "  border-bottom: 2px solid var(--sklearn-color-text-on-default-background);\n",
              "  flex-grow: 1;\n",
              "}\n",
              "\n",
              "#sk-container-id-1 div.sk-parallel {\n",
              "  display: flex;\n",
              "  align-items: stretch;\n",
              "  justify-content: center;\n",
              "  background-color: var(--sklearn-color-background);\n",
              "  position: relative;\n",
              "}\n",
              "\n",
              "#sk-container-id-1 div.sk-parallel-item {\n",
              "  display: flex;\n",
              "  flex-direction: column;\n",
              "}\n",
              "\n",
              "#sk-container-id-1 div.sk-parallel-item:first-child::after {\n",
              "  align-self: flex-end;\n",
              "  width: 50%;\n",
              "}\n",
              "\n",
              "#sk-container-id-1 div.sk-parallel-item:last-child::after {\n",
              "  align-self: flex-start;\n",
              "  width: 50%;\n",
              "}\n",
              "\n",
              "#sk-container-id-1 div.sk-parallel-item:only-child::after {\n",
              "  width: 0;\n",
              "}\n",
              "\n",
              "/* Serial-specific style estimator block */\n",
              "\n",
              "#sk-container-id-1 div.sk-serial {\n",
              "  display: flex;\n",
              "  flex-direction: column;\n",
              "  align-items: center;\n",
              "  background-color: var(--sklearn-color-background);\n",
              "  padding-right: 1em;\n",
              "  padding-left: 1em;\n",
              "}\n",
              "\n",
              "\n",
              "/* Toggleable style: style used for estimator/Pipeline/ColumnTransformer box that is\n",
              "clickable and can be expanded/collapsed.\n",
              "- Pipeline and ColumnTransformer use this feature and define the default style\n",
              "- Estimators will overwrite some part of the style using the `sk-estimator` class\n",
              "*/\n",
              "\n",
              "/* Pipeline and ColumnTransformer style (default) */\n",
              "\n",
              "#sk-container-id-1 div.sk-toggleable {\n",
              "  /* Default theme specific background. It is overwritten whether we have a\n",
              "  specific estimator or a Pipeline/ColumnTransformer */\n",
              "  background-color: var(--sklearn-color-background);\n",
              "}\n",
              "\n",
              "/* Toggleable label */\n",
              "#sk-container-id-1 label.sk-toggleable__label {\n",
              "  cursor: pointer;\n",
              "  display: flex;\n",
              "  width: 100%;\n",
              "  margin-bottom: 0;\n",
              "  padding: 0.5em;\n",
              "  box-sizing: border-box;\n",
              "  text-align: center;\n",
              "  align-items: start;\n",
              "  justify-content: space-between;\n",
              "  gap: 0.5em;\n",
              "}\n",
              "\n",
              "#sk-container-id-1 label.sk-toggleable__label .caption {\n",
              "  font-size: 0.6rem;\n",
              "  font-weight: lighter;\n",
              "  color: var(--sklearn-color-text-muted);\n",
              "}\n",
              "\n",
              "#sk-container-id-1 label.sk-toggleable__label-arrow:before {\n",
              "  /* Arrow on the left of the label */\n",
              "  content: \"▸\";\n",
              "  float: left;\n",
              "  margin-right: 0.25em;\n",
              "  color: var(--sklearn-color-icon);\n",
              "}\n",
              "\n",
              "#sk-container-id-1 label.sk-toggleable__label-arrow:hover:before {\n",
              "  color: var(--sklearn-color-text);\n",
              "}\n",
              "\n",
              "/* Toggleable content - dropdown */\n",
              "\n",
              "#sk-container-id-1 div.sk-toggleable__content {\n",
              "  max-height: 0;\n",
              "  max-width: 0;\n",
              "  overflow: hidden;\n",
              "  text-align: left;\n",
              "  /* unfitted */\n",
              "  background-color: var(--sklearn-color-unfitted-level-0);\n",
              "}\n",
              "\n",
              "#sk-container-id-1 div.sk-toggleable__content.fitted {\n",
              "  /* fitted */\n",
              "  background-color: var(--sklearn-color-fitted-level-0);\n",
              "}\n",
              "\n",
              "#sk-container-id-1 div.sk-toggleable__content pre {\n",
              "  margin: 0.2em;\n",
              "  border-radius: 0.25em;\n",
              "  color: var(--sklearn-color-text);\n",
              "  /* unfitted */\n",
              "  background-color: var(--sklearn-color-unfitted-level-0);\n",
              "}\n",
              "\n",
              "#sk-container-id-1 div.sk-toggleable__content.fitted pre {\n",
              "  /* unfitted */\n",
              "  background-color: var(--sklearn-color-fitted-level-0);\n",
              "}\n",
              "\n",
              "#sk-container-id-1 input.sk-toggleable__control:checked~div.sk-toggleable__content {\n",
              "  /* Expand drop-down */\n",
              "  max-height: 200px;\n",
              "  max-width: 100%;\n",
              "  overflow: auto;\n",
              "}\n",
              "\n",
              "#sk-container-id-1 input.sk-toggleable__control:checked~label.sk-toggleable__label-arrow:before {\n",
              "  content: \"▾\";\n",
              "}\n",
              "\n",
              "/* Pipeline/ColumnTransformer-specific style */\n",
              "\n",
              "#sk-container-id-1 div.sk-label input.sk-toggleable__control:checked~label.sk-toggleable__label {\n",
              "  color: var(--sklearn-color-text);\n",
              "  background-color: var(--sklearn-color-unfitted-level-2);\n",
              "}\n",
              "\n",
              "#sk-container-id-1 div.sk-label.fitted input.sk-toggleable__control:checked~label.sk-toggleable__label {\n",
              "  background-color: var(--sklearn-color-fitted-level-2);\n",
              "}\n",
              "\n",
              "/* Estimator-specific style */\n",
              "\n",
              "/* Colorize estimator box */\n",
              "#sk-container-id-1 div.sk-estimator input.sk-toggleable__control:checked~label.sk-toggleable__label {\n",
              "  /* unfitted */\n",
              "  background-color: var(--sklearn-color-unfitted-level-2);\n",
              "}\n",
              "\n",
              "#sk-container-id-1 div.sk-estimator.fitted input.sk-toggleable__control:checked~label.sk-toggleable__label {\n",
              "  /* fitted */\n",
              "  background-color: var(--sklearn-color-fitted-level-2);\n",
              "}\n",
              "\n",
              "#sk-container-id-1 div.sk-label label.sk-toggleable__label,\n",
              "#sk-container-id-1 div.sk-label label {\n",
              "  /* The background is the default theme color */\n",
              "  color: var(--sklearn-color-text-on-default-background);\n",
              "}\n",
              "\n",
              "/* On hover, darken the color of the background */\n",
              "#sk-container-id-1 div.sk-label:hover label.sk-toggleable__label {\n",
              "  color: var(--sklearn-color-text);\n",
              "  background-color: var(--sklearn-color-unfitted-level-2);\n",
              "}\n",
              "\n",
              "/* Label box, darken color on hover, fitted */\n",
              "#sk-container-id-1 div.sk-label.fitted:hover label.sk-toggleable__label.fitted {\n",
              "  color: var(--sklearn-color-text);\n",
              "  background-color: var(--sklearn-color-fitted-level-2);\n",
              "}\n",
              "\n",
              "/* Estimator label */\n",
              "\n",
              "#sk-container-id-1 div.sk-label label {\n",
              "  font-family: monospace;\n",
              "  font-weight: bold;\n",
              "  display: inline-block;\n",
              "  line-height: 1.2em;\n",
              "}\n",
              "\n",
              "#sk-container-id-1 div.sk-label-container {\n",
              "  text-align: center;\n",
              "}\n",
              "\n",
              "/* Estimator-specific */\n",
              "#sk-container-id-1 div.sk-estimator {\n",
              "  font-family: monospace;\n",
              "  border: 1px dotted var(--sklearn-color-border-box);\n",
              "  border-radius: 0.25em;\n",
              "  box-sizing: border-box;\n",
              "  margin-bottom: 0.5em;\n",
              "  /* unfitted */\n",
              "  background-color: var(--sklearn-color-unfitted-level-0);\n",
              "}\n",
              "\n",
              "#sk-container-id-1 div.sk-estimator.fitted {\n",
              "  /* fitted */\n",
              "  background-color: var(--sklearn-color-fitted-level-0);\n",
              "}\n",
              "\n",
              "/* on hover */\n",
              "#sk-container-id-1 div.sk-estimator:hover {\n",
              "  /* unfitted */\n",
              "  background-color: var(--sklearn-color-unfitted-level-2);\n",
              "}\n",
              "\n",
              "#sk-container-id-1 div.sk-estimator.fitted:hover {\n",
              "  /* fitted */\n",
              "  background-color: var(--sklearn-color-fitted-level-2);\n",
              "}\n",
              "\n",
              "/* Specification for estimator info (e.g. \"i\" and \"?\") */\n",
              "\n",
              "/* Common style for \"i\" and \"?\" */\n",
              "\n",
              ".sk-estimator-doc-link,\n",
              "a:link.sk-estimator-doc-link,\n",
              "a:visited.sk-estimator-doc-link {\n",
              "  float: right;\n",
              "  font-size: smaller;\n",
              "  line-height: 1em;\n",
              "  font-family: monospace;\n",
              "  background-color: var(--sklearn-color-background);\n",
              "  border-radius: 1em;\n",
              "  height: 1em;\n",
              "  width: 1em;\n",
              "  text-decoration: none !important;\n",
              "  margin-left: 0.5em;\n",
              "  text-align: center;\n",
              "  /* unfitted */\n",
              "  border: var(--sklearn-color-unfitted-level-1) 1pt solid;\n",
              "  color: var(--sklearn-color-unfitted-level-1);\n",
              "}\n",
              "\n",
              ".sk-estimator-doc-link.fitted,\n",
              "a:link.sk-estimator-doc-link.fitted,\n",
              "a:visited.sk-estimator-doc-link.fitted {\n",
              "  /* fitted */\n",
              "  border: var(--sklearn-color-fitted-level-1) 1pt solid;\n",
              "  color: var(--sklearn-color-fitted-level-1);\n",
              "}\n",
              "\n",
              "/* On hover */\n",
              "div.sk-estimator:hover .sk-estimator-doc-link:hover,\n",
              ".sk-estimator-doc-link:hover,\n",
              "div.sk-label-container:hover .sk-estimator-doc-link:hover,\n",
              ".sk-estimator-doc-link:hover {\n",
              "  /* unfitted */\n",
              "  background-color: var(--sklearn-color-unfitted-level-3);\n",
              "  color: var(--sklearn-color-background);\n",
              "  text-decoration: none;\n",
              "}\n",
              "\n",
              "div.sk-estimator.fitted:hover .sk-estimator-doc-link.fitted:hover,\n",
              ".sk-estimator-doc-link.fitted:hover,\n",
              "div.sk-label-container:hover .sk-estimator-doc-link.fitted:hover,\n",
              ".sk-estimator-doc-link.fitted:hover {\n",
              "  /* fitted */\n",
              "  background-color: var(--sklearn-color-fitted-level-3);\n",
              "  color: var(--sklearn-color-background);\n",
              "  text-decoration: none;\n",
              "}\n",
              "\n",
              "/* Span, style for the box shown on hovering the info icon */\n",
              ".sk-estimator-doc-link span {\n",
              "  display: none;\n",
              "  z-index: 9999;\n",
              "  position: relative;\n",
              "  font-weight: normal;\n",
              "  right: .2ex;\n",
              "  padding: .5ex;\n",
              "  margin: .5ex;\n",
              "  width: min-content;\n",
              "  min-width: 20ex;\n",
              "  max-width: 50ex;\n",
              "  color: var(--sklearn-color-text);\n",
              "  box-shadow: 2pt 2pt 4pt #999;\n",
              "  /* unfitted */\n",
              "  background: var(--sklearn-color-unfitted-level-0);\n",
              "  border: .5pt solid var(--sklearn-color-unfitted-level-3);\n",
              "}\n",
              "\n",
              ".sk-estimator-doc-link.fitted span {\n",
              "  /* fitted */\n",
              "  background: var(--sklearn-color-fitted-level-0);\n",
              "  border: var(--sklearn-color-fitted-level-3);\n",
              "}\n",
              "\n",
              ".sk-estimator-doc-link:hover span {\n",
              "  display: block;\n",
              "}\n",
              "\n",
              "/* \"?\"-specific style due to the `<a>` HTML tag */\n",
              "\n",
              "#sk-container-id-1 a.estimator_doc_link {\n",
              "  float: right;\n",
              "  font-size: 1rem;\n",
              "  line-height: 1em;\n",
              "  font-family: monospace;\n",
              "  background-color: var(--sklearn-color-background);\n",
              "  border-radius: 1rem;\n",
              "  height: 1rem;\n",
              "  width: 1rem;\n",
              "  text-decoration: none;\n",
              "  /* unfitted */\n",
              "  color: var(--sklearn-color-unfitted-level-1);\n",
              "  border: var(--sklearn-color-unfitted-level-1) 1pt solid;\n",
              "}\n",
              "\n",
              "#sk-container-id-1 a.estimator_doc_link.fitted {\n",
              "  /* fitted */\n",
              "  border: var(--sklearn-color-fitted-level-1) 1pt solid;\n",
              "  color: var(--sklearn-color-fitted-level-1);\n",
              "}\n",
              "\n",
              "/* On hover */\n",
              "#sk-container-id-1 a.estimator_doc_link:hover {\n",
              "  /* unfitted */\n",
              "  background-color: var(--sklearn-color-unfitted-level-3);\n",
              "  color: var(--sklearn-color-background);\n",
              "  text-decoration: none;\n",
              "}\n",
              "\n",
              "#sk-container-id-1 a.estimator_doc_link.fitted:hover {\n",
              "  /* fitted */\n",
              "  background-color: var(--sklearn-color-fitted-level-3);\n",
              "}\n",
              "</style><div id=\"sk-container-id-1\" class=\"sk-top-container\"><div class=\"sk-text-repr-fallback\"><pre>DecisionTreeClassifier(min_samples_leaf=200, random_state=42)</pre><b>In a Jupyter environment, please rerun this cell to show the HTML representation or trust the notebook. <br />On GitHub, the HTML representation is unable to render, please try loading this page with nbviewer.org.</b></div><div class=\"sk-container\" hidden><div class=\"sk-item\"><div class=\"sk-estimator fitted sk-toggleable\"><input class=\"sk-toggleable__control sk-hidden--visually\" id=\"sk-estimator-id-1\" type=\"checkbox\" checked><label for=\"sk-estimator-id-1\" class=\"sk-toggleable__label fitted sk-toggleable__label-arrow\"><div><div>DecisionTreeClassifier</div></div><div><a class=\"sk-estimator-doc-link fitted\" rel=\"noreferrer\" target=\"_blank\" href=\"https://scikit-learn.org/1.6/modules/generated/sklearn.tree.DecisionTreeClassifier.html\">?<span>Documentation for DecisionTreeClassifier</span></a><span class=\"sk-estimator-doc-link fitted\">i<span>Fitted</span></span></div></label><div class=\"sk-toggleable__content fitted\"><pre>DecisionTreeClassifier(min_samples_leaf=200, random_state=42)</pre></div> </div></div></div></div>"
            ],
            "text/plain": [
              "DecisionTreeClassifier(min_samples_leaf=200, random_state=42)"
            ]
          },
          "execution_count": 26,
          "metadata": {},
          "output_type": "execute_result"
        }
      ],
      "source": [
        "#comparar el f1 train y test\n",
        "#Tree Modelo final para sacarlo ANTES DE NORMALIZAR, los otros si van normalizados\n",
        "model_tree.fit(X_train_smote, Y_train_smote) #100%"
      ]
    },
    {
      "cell_type": "markdown",
      "metadata": {
        "id": "1N8MD5AxUMLk"
      },
      "source": [
        "##5. Hacer transformaciones con el 70% de los datos (Normalización)"
      ]
    },
    {
      "cell_type": "markdown",
      "metadata": {
        "id": "bPXd3iCEZC2Q"
      },
      "source": [
        "###5.2. Normalizar"
      ]
    },
    {
      "cell_type": "code",
      "execution_count": null,
      "metadata": {
        "id": "Q2Kcj4ILaYuD"
      },
      "outputs": [],
      "source": [
        "#Normalizacion las variables numéricas (las dummies no se normalizan)\n",
        "\n",
        "#No tenemos variables numéricas, por lo que podemos omitir este paso"
      ]
    },
    {
      "cell_type": "markdown",
      "metadata": {
        "id": "GAsuBQhVbGpx"
      },
      "source": [
        "##6. Aprendizaje de modelos aprendizaje supervisado (Knn, NN, SVM)"
      ]
    },
    {
      "cell_type": "markdown",
      "metadata": {
        "id": "LLODFQ6jhOjK"
      },
      "source": [
        "###6.3. Knn"
      ]
    },
    {
      "cell_type": "code",
      "execution_count": null,
      "metadata": {
        "id": "E2UYRCkUj0KH"
      },
      "outputs": [],
      "source": [
        "#Knn\n",
        "from sklearn.neighbors import KNeighborsClassifier\n",
        "#Configurar el modelo KNN con parámetros adecuados para datos categóricos\n",
        "model_knn = KNeighborsClassifier(\n",
        "    n_neighbors=5,               # Valor que evita overfitting\n",
        "    metric='hamming',            # Métrica ideal para datos categóricos (mejor que euclidean)\n",
        "    weights='distance'           # Da más peso a vecinos más cercanos              # Usa todos los núcleos del CPU\n",
        ")\n",
        "\n",
        "scores_knn = cross_validate(model_knn, X_train_smote, Y_train_smote, cv=cv, scoring=scoring, return_train_score=True, return_estimator=False)\n",
        "scores_knn_df = pd.DataFrame(scores_knn) #Se almacenan los resultados en un dataframe"
      ]
    },
    {
      "cell_type": "code",
      "execution_count": null,
      "metadata": {
        "colab": {
          "base_uri": "https://localhost:8080/"
        },
        "id": "IJVj72I1j-kq",
        "outputId": "4ef8c3d7-66f6-4ff8-b5e5-11e186fde0bd"
      },
      "outputs": [
        {
          "name": "stdout",
          "output_type": "stream",
          "text": [
            "       Tree  Tree_train       Knn  Knn_train\n",
            "0  0.909297    0.916398  0.909297   0.916398\n",
            "1  0.932526    0.913820  0.932526   0.913820\n",
            "2  0.898697    0.917604  0.898697   0.917604\n",
            "3  0.931203    0.924474  0.931203   0.924474\n",
            "4  0.913863    0.915897  0.913863   0.915897\n",
            "5  0.914970    0.915773  0.914970   0.915773\n",
            "6  0.919441    0.928518  0.919441   0.928518\n",
            "7  0.933477    0.924223  0.933477   0.924223\n",
            "8  0.912679    0.916030  0.912679   0.916030\n",
            "9  0.907211    0.916645  0.907211   0.916645\n"
          ]
        }
      ],
      "source": [
        "#Se almacena en el df la medida a comparar\n",
        "comparacion_CV['Knn']=scores['test_f1_weighted']\n",
        "comparacion_CV['Knn_train']=scores['train_f1_weighted']\n",
        "print(comparacion_CV)"
      ]
    },
    {
      "cell_type": "code",
      "execution_count": null,
      "metadata": {
        "colab": {
          "base_uri": "https://localhost:8080/",
          "height": 450
        },
        "id": "ckgYuIDScj-j",
        "outputId": "d9c6e24c-8840-434e-aea8-33bead045057"
      },
      "outputs": [
        {
          "data": {
            "text/plain": [
              "<Axes: >"
            ]
          },
          "execution_count": 30,
          "metadata": {},
          "output_type": "execute_result"
        },
        {
          "data": {
            "image/png": "[encoded data removed]",
            "text/plain": [
              "<Figure size 640x480 with 1 Axes>"
            ]
          },
          "metadata": {},
          "output_type": "display_data"
        }
      ],
      "source": [
        "#Resultados de la validación cruzada\n",
        "comparacion_CV.plot(kind='box')"
      ]
    },
    {
      "cell_type": "markdown",
      "metadata": {
        "id": "4UeGcUZqkDeT"
      },
      "source": [
        "###6.4. Red Neuronal"
      ]
    },
    {
      "cell_type": "code",
      "execution_count": null,
      "metadata": {
        "id": "abgJh5-9kDGX"
      },
      "outputs": [],
      "source": [
        "#Red neuronal\n",
        "from sklearn.neural_network import MLPClassifier\n",
        "\n",
        "model_rn = MLPClassifier(\n",
        "    hidden_layer_sizes=(16),\n",
        "    activation='relu',                 # Función de activación recomendada\n",
        "    solver='adam',                     # Optimizador para datos categóricos\n",
        "    learning_rate_init=0.01,           # Tasa de aprendizaje\n",
        "    early_stopping=True,               # Detiene el entrenamiento si no mejora\n",
        "    max_iter=500,\n",
        "    random_state=42,                   # Reproducibilidad\n",
        "    verbose=False\n",
        ")\n",
        "\n",
        "scores = cross_validate(model_rn, X_train_smote, Y_train_smote, cv=cv, scoring=scoring, return_train_score=True, return_estimator=False)\n",
        "\n",
        "#Validación cruzada con datos balanceados\n",
        "scores_rn = cross_validate(\n",
        "    estimator=model_rn,\n",
        "    X=X_train_smote,                    # Usar datos balanceados (SMOTEN)\n",
        "    y=Y_train_smote,\n",
        "    cv=cv,\n",
        "    scoring=scoring,\n",
        "    return_train_score=True\n",
        ")\n",
        "scores_rn_df=pd.DataFrame(scores_rn) #Se almacenan los resultados en un dataframe"
      ]
    },
    {
      "cell_type": "code",
      "execution_count": null,
      "metadata": {
        "colab": {
          "base_uri": "https://localhost:8080/"
        },
        "id": "DmqgE0WfnK2X",
        "outputId": "ba70373b-0f21-4aa6-bce2-ad197826ad91"
      },
      "outputs": [
        {
          "name": "stdout",
          "output_type": "stream",
          "text": [
            "       Tree  Tree_train       Knn  Knn_train        Rn  Rn_train\n",
            "0  0.909297    0.916398  0.909297   0.916398  0.967271  0.977049\n",
            "1  0.932526    0.913820  0.932526   0.913820  0.982643  0.974613\n",
            "2  0.898697    0.917604  0.898697   0.917604  0.960890  0.977399\n",
            "3  0.931203    0.924474  0.931203   0.924474  0.980405  0.974980\n",
            "4  0.913863    0.915897  0.913863   0.915897  0.971744  0.972452\n",
            "5  0.914970    0.915773  0.914970   0.915773  0.981550  0.972329\n",
            "6  0.919441    0.928518  0.919441   0.928518  0.976092  0.975235\n",
            "7  0.933477    0.924223  0.933477   0.924223  0.981540  0.975465\n",
            "8  0.912679    0.916030  0.912679   0.916030  0.974947  0.975714\n",
            "9  0.907211    0.916645  0.907211   0.916645  0.967322  0.974397\n"
          ]
        }
      ],
      "source": [
        "#Se almacena en el df la medida a comparar\n",
        "comparacion_CV['Rn']=scores['test_f1_weighted']\n",
        "comparacion_CV['Rn_train']=scores['train_f1_weighted']\n",
        "print(comparacion_CV) #TABLA CLAVE PARA HACER COMPARACIONES Y SABER CUÁL ES EL MEJOR MODELO"
      ]
    },
    {
      "cell_type": "code",
      "execution_count": null,
      "metadata": {
        "colab": {
          "base_uri": "https://localhost:8080/",
          "height": 447
        },
        "id": "43tNLZxtnONy",
        "outputId": "e51d0348-bcd8-4162-e9a5-7ecb8b945751"
      },
      "outputs": [
        {
          "data": {
            "text/plain": [
              "<Axes: >"
            ]
          },
          "execution_count": 33,
          "metadata": {},
          "output_type": "execute_result"
        },
        {
          "data": {
            "image/png": "[encoded data removed]",
            "text/plain": [
              "<Figure size 640x480 with 1 Axes>"
            ]
          },
          "metadata": {},
          "output_type": "display_data"
        }
      ],
      "source": [
        "#Resultados de la validación cruzada\n",
        "comparacion_CV.plot(kind='box')"
      ]
    },
    {
      "cell_type": "markdown",
      "metadata": {
        "id": "wImFnlXzm_pg"
      },
      "source": [
        "###6.5. SVM"
      ]
    },
    {
      "cell_type": "code",
      "execution_count": null,
      "metadata": {
        "id": "1kyUZ5banE6P"
      },
      "outputs": [],
      "source": [
        "from sklearn.svm import SVC\n",
        "from sklearn.model_selection import cross_validate\n",
        "\n",
        "# Definir el modelo SVM\n",
        "model_SVM = SVC(kernel='linear',\n",
        "               C=0.5,           # Regularización intermedia (evita sobreajuste)\n",
        "               probability=True,        # Habilita predict_proba para métricas AUC\n",
        "               random_state=42, # Reproducibilidad\n",
        "               decision_function_shape='ovr'  # Estrategia multiclase\n",
        "               )\n",
        "\n",
        "scoring = {\n",
        "    'f1_weighted': 'f1_weighted',      # Prioriza clases minoritarias\n",
        "    'accuracy': 'accuracy',\n",
        "    'precision_macro': 'precision_macro',\n",
        "    'recall_macro': 'recall_macro',    # Importante para casos graves\n",
        "    'roc_auc_ovo': 'roc_auc_ovo'       # Evalúa capacidad de ranking\n",
        "}\n",
        "\n",
        "# Validación cruzada\n",
        "scores_svm = cross_validate(model_SVM, X_train_smote, Y_train_smote, cv=cv, scoring=scoring,\n",
        "                            return_train_score=True, return_estimator=False)\n",
        "\n",
        "# Resultados en DataFrame\n",
        "scores_svm_df = pd.DataFrame(scores_svm)"
      ]
    },
    {
      "cell_type": "code",
      "execution_count": null,
      "metadata": {
        "colab": {
          "base_uri": "https://localhost:8080/"
        },
        "id": "YGO7Rl0q5-Km",
        "outputId": "4ad301d9-ae53-4a9f-ee52-2a78e0e60ed2"
      },
      "outputs": [
        {
          "name": "stdout",
          "output_type": "stream",
          "text": [
            "       Tree  Tree_train       Knn  Knn_train        Rn  Rn_train       SVM  \\\n",
            "0  0.909297    0.916398  0.909297   0.916398  0.967271  0.977049  0.962961   \n",
            "1  0.932526    0.913820  0.932526   0.913820  0.982643  0.974613  0.982652   \n",
            "2  0.898697    0.917604  0.898697   0.917604  0.960890  0.977399  0.958726   \n",
            "3  0.931203    0.924474  0.931203   0.924474  0.980405  0.974980  0.976071   \n",
            "4  0.913863    0.915897  0.913863   0.915897  0.971744  0.972452  0.971759   \n",
            "5  0.914970    0.915773  0.914970   0.915773  0.981550  0.972329  0.980464   \n",
            "6  0.919441    0.928518  0.919441   0.928518  0.976092  0.975235  0.976102   \n",
            "7  0.933477    0.924223  0.933477   0.924223  0.981540  0.975465  0.979391   \n",
            "8  0.912679    0.916030  0.912679   0.916030  0.974947  0.975714  0.974947   \n",
            "9  0.907211    0.916645  0.907211   0.916645  0.967322  0.974397  0.968407   \n",
            "\n",
            "   SVM_train  \n",
            "0   0.974281  \n",
            "1   0.973062  \n",
            "2   0.974759  \n",
            "3   0.972829  \n",
            "4   0.973307  \n",
            "5   0.972338  \n",
            "6   0.972824  \n",
            "7   0.972457  \n",
            "8   0.972953  \n",
            "9   0.973679  \n"
          ]
        }
      ],
      "source": [
        "#Se almacena en el df la medida a comparar\n",
        "comparacion_CV['SVM']=scores_svm['test_f1_weighted']\n",
        "comparacion_CV['SVM_train']=scores_svm['train_f1_weighted']\n",
        "print(comparacion_CV) #TABLA CLAVE PARA HACER COMPARACIONES Y SABER CUÁL ES EL MEJOR MODELO"
      ]
    },
    {
      "cell_type": "code",
      "execution_count": null,
      "metadata": {
        "colab": {
          "base_uri": "https://localhost:8080/",
          "height": 447
        },
        "id": "b6_uhLBJ6KYB",
        "outputId": "20ec98ae-08e5-40f7-b8c2-bb9233030a4a"
      },
      "outputs": [
        {
          "data": {
            "text/plain": [
              "<Axes: >"
            ]
          },
          "execution_count": 36,
          "metadata": {},
          "output_type": "execute_result"
        },
        {
          "data": {
            "image/png": "[encoded data removed]",
            "text/plain": [
              "<Figure size 640x480 with 1 Axes>"
            ]
          },
          "metadata": {},
          "output_type": "display_data"
        }
      ],
      "source": [
        "#Resultados de la validación cruzada\n",
        "comparacion_CV.plot(kind='box')"
      ]
    },
    {
      "cell_type": "markdown",
      "metadata": {
        "id": "C1nRhWPS7XZe"
      },
      "source": [
        "##6. Aprendizaje de modelos ensambles (Bagging, XGBoost, Stacking)"
      ]
    },
    {
      "cell_type": "markdown",
      "metadata": {
        "id": "nHZ5OATJi1aA"
      },
      "source": [
        "###6.6. Bagging"
      ]
    },
    {
      "cell_type": "code",
      "execution_count": null,
      "metadata": {
        "colab": {
          "background_save": true
        },
        "id": "TCgiBp4o-jnv"
      },
      "outputs": [],
      "source": [
        "#Bagging: Knn\n",
        "from sklearn.ensemble import BaggingClassifier\n",
        "base_knn = KNeighborsClassifier(\n",
        "    n_neighbors=3,               # Valor más robusto que 1 (evita overfitting)\n",
        "    metric='hamming',            # Ideal para datos categóricos (dummies)\n",
        "    weights='distance'           # Mayor peso a vecinos más cercanos\n",
        ")\n",
        "\n",
        "#Configuración Bagging\n",
        "model_bag = BaggingClassifier(\n",
        "    estimator=base_knn,\n",
        "    n_estimators=100,            # Número suficiente de estimadores (como recomendaste)\n",
        "    max_samples=0.6,             # 60% de muestras por estimador\n",
        "    random_state=42              # Reproducibilidad\n",
        ")\n",
        "\n",
        "scoring = {\n",
        "    'f1_weighted': 'f1_weighted',\n",
        "    'accuracy': 'accuracy',\n",
        "    'recall_macro': 'recall_macro',\n",
        "    'roc_auc_ovo': 'roc_auc_ovo'\n",
        "}\n",
        "\n",
        "scores_bag = cross_validate(\n",
        "    model_bag,\n",
        "    X=X_train_smote,              # Datos de entrenamiento balanceados\n",
        "    y=Y_train_smote,\n",
        "    cv=cv,                       # Validación cruzada\n",
        "    scoring=scoring,\n",
        "    return_train_score=True\n",
        ")\n",
        "# Resultados en DataFrame\n",
        "scores_bag_df = pd.DataFrame(scores_bag)"
      ]
    },
    {
      "cell_type": "code",
      "execution_count": null,
      "metadata": {
        "colab": {
          "background_save": true
        },
        "id": "6FV8RcGnoFwu",
        "outputId": "c276e2d6-9d2f-492c-ded2-ce1e73cec445"
      },
      "outputs": [
        {
          "name": "stdout",
          "output_type": "stream",
          "text": [
            "       Tree  Tree_train       Knn  Knn_train        Rn  Rn_train       SVM  \\\n",
            "0  0.909297    0.916398  0.909297   0.916398  0.967271  0.977049  0.962961   \n",
            "1  0.932526    0.913820  0.932526   0.913820  0.982643  0.974613  0.982652   \n",
            "2  0.898697    0.917604  0.898697   0.917604  0.960890  0.977399  0.958726   \n",
            "3  0.931203    0.924474  0.931203   0.924474  0.980405  0.974980  0.976071   \n",
            "4  0.913863    0.915897  0.913863   0.915897  0.971744  0.972452  0.971759   \n",
            "5  0.914970    0.915773  0.914970   0.915773  0.981550  0.972329  0.980464   \n",
            "6  0.919441    0.928518  0.919441   0.928518  0.976092  0.975235  0.976102   \n",
            "7  0.933477    0.924223  0.933477   0.924223  0.981540  0.975465  0.979391   \n",
            "8  0.912679    0.916030  0.912679   0.916030  0.974947  0.975714  0.974947   \n",
            "9  0.907211    0.916645  0.907211   0.916645  0.967322  0.974397  0.968407   \n",
            "\n",
            "   SVM_train  Bagging_KNN  Bagging_KNN_train  \n",
            "0   0.974281     0.966217           0.977165  \n",
            "1   0.973062     0.982652           0.975219  \n",
            "2   0.974759     0.959792           0.977642  \n",
            "3   0.972829     0.978246           0.975353  \n",
            "4   0.973307     0.968538           0.975713  \n",
            "5   0.972338     0.982636           0.975100  \n",
            "6   0.972824     0.975011           0.975590  \n",
            "7   0.972457     0.978290           0.975104  \n",
            "8   0.972953     0.972788           0.976081  \n",
            "9   0.973679     0.967286           0.976197  \n"
          ]
        }
      ],
      "source": [
        "comparacion_CV['Bagging_KNN'] = scores_bag_df['test_f1_weighted']  # Métrica principal\n",
        "comparacion_CV['Bagging_KNN_train'] = scores_bag_df['train_f1_weighted']  # Métrica principal\n",
        "print(comparacion_CV)"
      ]
    },
    {
      "cell_type": "markdown",
      "metadata": {
        "id": "JW-Zyha2iNzn"
      },
      "source": [
        "###6.7. XGboost"
      ]
    },
    {
      "cell_type": "code",
      "execution_count": null,
      "metadata": {
        "colab": {
          "background_save": true
        },
        "id": "xETalGnsqnqa",
        "outputId": "b2ce6a1d-830e-41d7-9997-353ea9050377"
      },
      "outputs": [
        {
          "name": "stderr",
          "output_type": "stream",
          "text": [
            "/usr/local/lib/python3.11/dist-packages/xgboost/core.py:158: UserWarning: [14:29:13] WARNING: /workspace/src/learner.cc:740: \n",
            "Parameters: { \"use_label_encoder\" } are not used.\n",
            "\n",
            "  warnings.warn(smsg, UserWarning)\n",
            "/usr/local/lib/python3.11/dist-packages/xgboost/core.py:158: UserWarning: [14:29:13] WARNING: /workspace/src/learner.cc:740: \n",
            "Parameters: { \"use_label_encoder\" } are not used.\n",
            "\n",
            "  warnings.warn(smsg, UserWarning)\n",
            "/usr/local/lib/python3.11/dist-packages/xgboost/core.py:158: UserWarning: [14:29:14] WARNING: /workspace/src/learner.cc:740: \n",
            "Parameters: { \"use_label_encoder\" } are not used.\n",
            "\n",
            "  warnings.warn(smsg, UserWarning)\n",
            "/usr/local/lib/python3.11/dist-packages/xgboost/core.py:158: UserWarning: [14:29:14] WARNING: /workspace/src/learner.cc:740: \n",
            "Parameters: { \"use_label_encoder\" } are not used.\n",
            "\n",
            "  warnings.warn(smsg, UserWarning)\n",
            "/usr/local/lib/python3.11/dist-packages/xgboost/core.py:158: UserWarning: [14:29:14] WARNING: /workspace/src/learner.cc:740: \n",
            "Parameters: { \"use_label_encoder\" } are not used.\n",
            "\n",
            "  warnings.warn(smsg, UserWarning)\n",
            "/usr/local/lib/python3.11/dist-packages/xgboost/core.py:158: UserWarning: [14:29:15] WARNING: /workspace/src/learner.cc:740: \n",
            "Parameters: { \"use_label_encoder\" } are not used.\n",
            "\n",
            "  warnings.warn(smsg, UserWarning)\n",
            "/usr/local/lib/python3.11/dist-packages/xgboost/core.py:158: UserWarning: [14:29:15] WARNING: /workspace/src/learner.cc:740: \n",
            "Parameters: { \"use_label_encoder\" } are not used.\n",
            "\n",
            "  warnings.warn(smsg, UserWarning)\n",
            "/usr/local/lib/python3.11/dist-packages/xgboost/core.py:158: UserWarning: [14:29:16] WARNING: /workspace/src/learner.cc:740: \n",
            "Parameters: { \"use_label_encoder\" } are not used.\n",
            "\n",
            "  warnings.warn(smsg, UserWarning)\n",
            "/usr/local/lib/python3.11/dist-packages/xgboost/core.py:158: UserWarning: [14:29:16] WARNING: /workspace/src/learner.cc:740: \n",
            "Parameters: { \"use_label_encoder\" } are not used.\n",
            "\n",
            "  warnings.warn(smsg, UserWarning)\n",
            "/usr/local/lib/python3.11/dist-packages/xgboost/core.py:158: UserWarning: [14:29:16] WARNING: /workspace/src/learner.cc:740: \n",
            "Parameters: { \"use_label_encoder\" } are not used.\n",
            "\n",
            "  warnings.warn(smsg, UserWarning)\n"
          ]
        }
      ],
      "source": [
        "import xgboost as xgb\n",
        "\n",
        "model_xgb = xgb.XGBClassifier(\n",
        "    max_depth=5,                  # Reduce profundidad para evitar overfitting\n",
        "    learning_rate=0.05,           # Tasa de aprendizaje más conservadora\n",
        "    n_estimators=100,             # Mayor número de árboles (compensa learning_rate bajo)\n",
        "    subsample=0.8,                # Muestreo aleatorio de instancias\n",
        "    colsample_bytree=0.8,         # Muestreo aleatorio de características\n",
        "    gamma=0.1,                    # Regularización para hojas\n",
        "    reg_alpha=0.5,                # Regularización L1\n",
        "    reg_lambda=1.0,               # Regularización L2\n",
        "    objective='multi:softmax',    # Para clasificación multiclase\n",
        "    num_class=3,                  # Número de clases (DENGUE GRAVE, CON SIGNOS, SIN SIGNOS)\n",
        "    tree_method='hist',           # Optimización para velocidad\n",
        "    enable_categorical=False,     # False porque ya usas dummies\n",
        "    use_label_encoder=False,      # Evita warning (usamos label encoding manual)\n",
        "    random_state=42\n",
        ")\n",
        "\n",
        "scoring = {\n",
        "    'f1_weighted': 'f1_weighted',\n",
        "    'accuracy': 'accuracy',\n",
        "    'recall_macro': 'recall_macro',\n",
        "    'roc_auc_ovo': 'roc_auc_ovo'\n",
        "}\n",
        "\n",
        "scores_xgb = cross_validate(\n",
        "    model_xgb,\n",
        "    X=X_train_smote,              # Datos de entrenamiento balanceados\n",
        "    y=Y_train_smote,\n",
        "    cv = cv,\n",
        "    scoring=scoring,\n",
        "    return_train_score=True\n",
        ")\n",
        "# Resultados en DataFrame\n",
        "scores_xgb_df = pd.DataFrame(scores_xgb)"
      ]
    },
    {
      "cell_type": "code",
      "execution_count": null,
      "metadata": {
        "colab": {
          "background_save": true
        },
        "id": "3CvSKgDbsOOs",
        "outputId": "9f7c6f20-5f8f-457a-a50b-5c24d5931f05"
      },
      "outputs": [
        {
          "name": "stdout",
          "output_type": "stream",
          "text": [
            "       Tree  Tree_train       Knn  Knn_train        Rn  Rn_train       SVM  \\\n",
            "0  0.909297    0.916398  0.909297   0.916398  0.967271  0.977049  0.962961   \n",
            "1  0.932526    0.913820  0.932526   0.913820  0.982643  0.974613  0.982652   \n",
            "2  0.898697    0.917604  0.898697   0.917604  0.960890  0.977399  0.958726   \n",
            "3  0.931203    0.924474  0.931203   0.924474  0.980405  0.974980  0.976071   \n",
            "4  0.913863    0.915897  0.913863   0.915897  0.971744  0.972452  0.971759   \n",
            "5  0.914970    0.915773  0.914970   0.915773  0.981550  0.972329  0.980464   \n",
            "6  0.919441    0.928518  0.919441   0.928518  0.976092  0.975235  0.976102   \n",
            "7  0.933477    0.924223  0.933477   0.924223  0.981540  0.975465  0.979391   \n",
            "8  0.912679    0.916030  0.912679   0.916030  0.974947  0.975714  0.974947   \n",
            "9  0.907211    0.916645  0.907211   0.916645  0.967322  0.974397  0.968407   \n",
            "\n",
            "   SVM_train  Bagging_KNN  Bagging_KNN_train       XGB  XGB_train  \n",
            "0   0.974281     0.966217           0.977165  0.967296   0.976076  \n",
            "1   0.973062     0.982652           0.975219  0.982643   0.974371  \n",
            "2   0.974759     0.959792           0.977642  0.960845   0.976915  \n",
            "3   0.972829     0.978246           0.975353  0.979322   0.974623  \n",
            "4   0.973307     0.968538           0.975713  0.974992   0.975106  \n",
            "5   0.972338     0.982636           0.975100  0.982636   0.974489  \n",
            "6   0.972824     0.975011           0.975590  0.973931   0.974982  \n",
            "7   0.972457     0.978290           0.975104  0.981540   0.974494  \n",
            "8   0.972953     0.972788           0.976081  0.972786   0.975469  \n",
            "9   0.973679     0.967286           0.976197  0.970517   0.975597  \n"
          ]
        }
      ],
      "source": [
        "comparacion_CV['XGB'] = scores_xgb_df['test_f1_weighted']  # Métrica principal\n",
        "comparacion_CV['XGB_train'] = scores_xgb_df['train_f1_weighted']  # Métrica principal\n",
        "print(comparacion_CV)"
      ]
    },
    {
      "cell_type": "code",
      "execution_count": null,
      "metadata": {
        "colab": {
          "background_save": true
        },
        "id": "ttt6JnbXsauX",
        "outputId": "78a5dc2c-1237-41f2-97d8-f9eda133a942"
      },
      "outputs": [
        {
          "data": {
            "text/plain": [
              "<Axes: >"
            ]
          },
          "execution_count": 41,
          "metadata": {},
          "output_type": "execute_result"
        },
        {
          "data": {
            "image/png": "[encoded data removed]",
            "text/plain": [
              "<Figure size 1200x1000 with 1 Axes>"
            ]
          },
          "metadata": {},
          "output_type": "display_data"
        }
      ],
      "source": [
        "#Resultados de la validación cruzada\n",
        "comparacion_CV.plot(kind='box', figsize=(12,10))"
      ]
    },
    {
      "cell_type": "markdown",
      "metadata": {
        "id": "ObvWijh6tgub"
      },
      "source": [
        "###6.8. Stacking"
      ]
    },
    {
      "cell_type": "code",
      "execution_count": null,
      "metadata": {
        "colab": {
          "background_save": true
        },
        "id": "Jn1pNOtjswMN"
      },
      "outputs": [],
      "source": [
        "from sklearn.ensemble import StackingClassifier\n",
        "from sklearn.linear_model import LogisticRegression\n",
        "\n",
        "clasificadores = [\n",
        "    ('tree', model_tree),   # Árbol de decisión (configurado con class_weight='balanced')\n",
        "    ('knn', model_knn), # KNN con metric='hamming'\n",
        "    ('rn', model_rn)    # Red neuronal con early_stopping=True\n",
        "]\n",
        "\n",
        "#Método ensamblador\n",
        "metodo_ensamblador = LogisticRegression(\n",
        "    penalty='l2',           # Regularización L2\n",
        "    C=0.5,                  # Fuerza de regularización\n",
        "    solver='lbfgs',         # Bueno para multiclase\n",
        "    max_iter=1000,          # Suficientes iteraciones\n",
        "    class_weight='balanced', # Compensa desbalanceo\n",
        "    random_state=42\n",
        ")\n",
        "\n",
        "#Configuración stacking\n",
        "model_stack = StackingClassifier(\n",
        "    estimators=clasificadores,\n",
        "    final_estimator=metodo_ensamblador,\n",
        "    stack_method='predict_proba',  # Usa probabilidades para mejor ensamblaje\n",
        "    passthrough=True               # Incluye características originales\n",
        ")\n",
        "\n",
        "scoring = {\n",
        "    'f1_weighted': 'f1_weighted',\n",
        "    'accuracy': 'accuracy',\n",
        "    'recall_macro': 'recall_macro',\n",
        "    'roc_auc_ovo': 'roc_auc_ovo'\n",
        "}\n",
        "\n",
        "#Valdación cruzada\n",
        "scores_stack = cross_validate(\n",
        "    model_stack,\n",
        "    X=X_train_smote,              # Datos de entrenamiento balanceados\n",
        "    y=Y_train_smote,\n",
        "    cv=cv,\n",
        "    scoring=scoring,\n",
        "    return_train_score=True\n",
        ")\n",
        "\n",
        "scores_stack_df = pd.DataFrame(scores_stack)"
      ]
    },
    {
      "cell_type": "code",
      "execution_count": null,
      "metadata": {
        "colab": {
          "background_save": true
        },
        "id": "xXx43_wNzuaI",
        "outputId": "9d1761fe-1def-4674-bf71-46759d8afc2e"
      },
      "outputs": [
        {
          "name": "stdout",
          "output_type": "stream",
          "text": [
            "       Tree  Tree_train       Knn  Knn_train        Rn  Rn_train       SVM  \\\n",
            "0  0.909297    0.916398  0.909297   0.916398  0.967271  0.977049  0.962961   \n",
            "1  0.932526    0.913820  0.932526   0.913820  0.982643  0.974613  0.982652   \n",
            "2  0.898697    0.917604  0.898697   0.917604  0.960890  0.977399  0.958726   \n",
            "3  0.931203    0.924474  0.931203   0.924474  0.980405  0.974980  0.976071   \n",
            "4  0.913863    0.915897  0.913863   0.915897  0.971744  0.972452  0.971759   \n",
            "5  0.914970    0.915773  0.914970   0.915773  0.981550  0.972329  0.980464   \n",
            "6  0.919441    0.928518  0.919441   0.928518  0.976092  0.975235  0.976102   \n",
            "7  0.933477    0.924223  0.933477   0.924223  0.981540  0.975465  0.979391   \n",
            "8  0.912679    0.916030  0.912679   0.916030  0.974947  0.975714  0.974947   \n",
            "9  0.907211    0.916645  0.907211   0.916645  0.967322  0.974397  0.968407   \n",
            "\n",
            "   SVM_train  Bagging_KNN  Bagging_KNN_train       XGB  XGB_train  Stacking  \\\n",
            "0   0.974281     0.966217           0.977165  0.967296   0.976076  0.966217   \n",
            "1   0.973062     0.982652           0.975219  0.982643   0.974371  0.982643   \n",
            "2   0.974759     0.959792           0.977642  0.960845   0.976915  0.960890   \n",
            "3   0.972829     0.978246           0.975353  0.979322   0.974623  0.981489   \n",
            "4   0.973307     0.968538           0.975713  0.974992   0.975106  0.974992   \n",
            "5   0.972338     0.982636           0.975100  0.982636   0.974489  0.982636   \n",
            "6   0.972824     0.975011           0.975590  0.973931   0.974982  0.977178   \n",
            "7   0.972457     0.978290           0.975104  0.981540   0.974494  0.981540   \n",
            "8   0.972953     0.972788           0.976081  0.972786   0.975469  0.973848   \n",
            "9   0.973679     0.967286           0.976197  0.970517   0.975597  0.970580   \n",
            "\n",
            "   Stacking_train  \n",
            "0        0.977404  \n",
            "1        0.975330  \n",
            "2        0.978001  \n",
            "3        0.975579  \n",
            "4        0.975219  \n",
            "5        0.974857  \n",
            "6        0.976068  \n",
            "7        0.975452  \n",
            "8        0.976065  \n",
            "9        0.976317  \n"
          ]
        }
      ],
      "source": [
        "comparacion_CV['Stacking'] = scores_stack_df['test_f1_weighted']\n",
        "comparacion_CV['Stacking_train'] = scores_stack_df['train_f1_weighted']\n",
        "print(comparacion_CV)"
      ]
    },
    {
      "cell_type": "code",
      "execution_count": null,
      "metadata": {
        "colab": {
          "background_save": true
        },
        "id": "k69BmazZ0ITE",
        "outputId": "53457a83-1fc3-493c-ae26-b622dec6ecd3"
      },
      "outputs": [
        {
          "data": {
            "text/plain": [
              "<Axes: >"
            ]
          },
          "execution_count": 44,
          "metadata": {},
          "output_type": "execute_result"
        },
        {
          "data": {
            "image/png": "[encoded data removed]",
            "text/plain": [
              "<Figure size 1200x1000 with 1 Axes>"
            ]
          },
          "metadata": {},
          "output_type": "display_data"
        }
      ],
      "source": [
        "#Resultados de la validación cruzada\n",
        "comparacion_CV.plot(kind='box', figsize=(12,10))"
      ]
    },
    {
      "cell_type": "markdown",
      "metadata": {
        "id": "x0Vcz_8M5OWk"
      },
      "source": [
        "##7. Evaluación en el Conjunto de Test (30% no balanceado)"
      ]
    },
    {
      "cell_type": "code",
      "execution_count": null,
      "metadata": {
        "colab": {
          "background_save": true
        },
        "id": "LWb9Btq90QQz",
        "outputId": "737f2096-98a3-4607-cf35-66119399695b"
      },
      "outputs": [
        {
          "name": "stdout",
          "output_type": "stream",
          "text": [
            "Fitting Tree...\n",
            "Fitting Tree completado.\n",
            "Fitting Knn...\n",
            "Fitting Knn completado.\n",
            "Fitting Rn...\n",
            "Fitting Rn completado.\n",
            "Fitting SVM...\n",
            "Fitting SVM completado.\n",
            "Fitting Bagging_KNN...\n",
            "Fitting Bagging_KNN completado.\n",
            "Fitting XGB...\n"
          ]
        },
        {
          "name": "stderr",
          "output_type": "stream",
          "text": [
            "/usr/local/lib/python3.11/dist-packages/xgboost/core.py:158: UserWarning: [14:30:17] WARNING: /workspace/src/learner.cc:740: \n",
            "Parameters: { \"use_label_encoder\" } are not used.\n",
            "\n",
            "  warnings.warn(smsg, UserWarning)\n"
          ]
        },
        {
          "name": "stdout",
          "output_type": "stream",
          "text": [
            "Fitting XGB completado.\n",
            "Fitting Stacking...\n",
            "Fitting Stacking completado.\n"
          ]
        }
      ],
      "source": [
        "#Calculamos métricas en los datos reales (no balanceados)\n",
        "from sklearn.metrics import f1_score, accuracy_score, recall_score, roc_auc_score\n",
        "\n",
        "X_test = X_test.reindex(columns=X_train_smote.columns, fill_value=0)\n",
        "\n",
        "f1_scores = {\n",
        "    'Tree': scores_df['test_f1_weighted'],\n",
        "    'Knn': scores_knn_df['test_f1_weighted'],\n",
        "    'Rn': scores_rn_df['test_f1_weighted'],\n",
        "    'SVM': scores_svm_df['test_f1_weighted'],\n",
        "    'Bagging_KNN': scores_bag_df['test_f1_weighted'],\n",
        "    'XGB': scores_xgb_df['test_f1_weighted'],\n",
        "    'Stacking': scores_stack_df['test_f1_weighted']\n",
        "}\n",
        "\n",
        "#Diccionario de modelos\n",
        "modelos = {\n",
        "    'Tree': model_tree,\n",
        "    'Knn': model_knn,\n",
        "    'Rn': model_rn,\n",
        "    'SVM': model_SVM,\n",
        "    'Bagging_KNN': model_bag,\n",
        "    'XGB': model_xgb,\n",
        "    'Stacking': model_stack\n",
        "}\n",
        "\n",
        "# Fit de modelo con los datos balanceados antes de predecir con el test set\n",
        "for nombre, modelo in modelos.items():\n",
        "    print(f\"Fitting {nombre}...\") #Ver progreso\n",
        "    # Asegurarse de que el modelo ya hizo fit antes de hacer predicciones\n",
        "    # Usamos los datos balanceados de entrenamiento (X_train_smote, Y_train_smote)\n",
        "    modelo.fit(X_train_smote, Y_train_smote)\n",
        "    print(f\"Fitting {nombre} completado.\")\n",
        "\n",
        "#Dataframe parta almacenar los resultados\n",
        "resultados_lista = []"
      ]
    },
    {
      "cell_type": "code",
      "execution_count": null,
      "metadata": {
        "colab": {
          "background_save": true
        },
        "id": "4rYCDcWj6N2l"
      },
      "outputs": [],
      "source": [
        "for nombre, modelo in modelos.items():\n",
        "    y_pred = modelo.predict(X_test)\n",
        "    resultados_lista.append({\n",
        "        'Modelo': nombre,\n",
        "        'F1_weighted': f1_score(Y_test, y_pred, average='weighted'),\n",
        "        'Accuracy': accuracy_score(Y_test, y_pred),\n",
        "        'Recall_macro': recall_score(Y_test, y_pred, average='macro'),\n",
        "        'ROC_AUC_OVO': roc_auc_score(Y_test, modelo.predict_proba(X_test), multi_class='ovo')\n",
        "    })"
      ]
    },
    {
      "cell_type": "code",
      "execution_count": null,
      "metadata": {
        "colab": {
          "background_save": true
        },
        "id": "JQH1XFnk7nQG",
        "outputId": "009bd897-ee6d-4162-ccc4-e21874fd0621"
      },
      "outputs": [
        {
          "name": "stdout",
          "output_type": "stream",
          "text": [
            "        Modelo  F1_weighted  Accuracy  Recall_macro  ROC_AUC_OVO\n",
            "2           Rn     0.970715  0.971129      0.728890     0.815516\n",
            "6     Stacking     0.970715  0.971129      0.728890     0.906867\n",
            "5          XGB     0.970711  0.971129      0.728797     0.857527\n",
            "3          SVM     0.968999  0.968504      0.768919     0.897675\n",
            "4  Bagging_KNN     0.968681  0.969160      0.686407     0.806816\n",
            "1          Knn     0.968550  0.969160      0.686313     0.827642\n",
            "0         Tree     0.928144  0.919291      0.741049     0.883022\n"
          ]
        }
      ],
      "source": [
        "# Convertir a DataFrame\n",
        "resultados_test = pd.DataFrame(resultados_lista)\n",
        "\n",
        "# Ordenar por F1_weighted (métrica principal)\n",
        "resultados_test = resultados_test.sort_values('F1_weighted', ascending=False)\n",
        "print(resultados_test)"
      ]
    },
    {
      "cell_type": "markdown",
      "metadata": {
        "id": "d_pxAPuKHw-7"
      },
      "source": [
        "##8. ANOVA + Tuckey para analizar diferencia estadística"
      ]
    },
    {
      "cell_type": "code",
      "execution_count": null,
      "metadata": {
        "colab": {
          "background_save": true
        },
        "id": "mGr8WNaCimeK",
        "outputId": "ee85dbb1-d7e1-4765-bb63-897547caaf6a"
      },
      "outputs": [
        {
          "name": "stdout",
          "output_type": "stream",
          "text": [
            "Resultado ANOVA: p-valor = 0.0000\n",
            "\n",
            "Diferencias globales detectadas. Procediendo con Tukey HSD...\n",
            "    Multiple Comparison of Means - Tukey HSD, FWER=0.05    \n",
            "===========================================================\n",
            "   group1    group2  meandiff p-adj   lower   upper  reject\n",
            "-----------------------------------------------------------\n",
            "Bagging_KNN      Knn   0.0002    1.0  -0.011  0.0115  False\n",
            "Bagging_KNN       Rn   0.0013 0.9998   -0.01  0.0126  False\n",
            "Bagging_KNN      SVM      0.0    1.0 -0.0113  0.0113  False\n",
            "Bagging_KNN Stacking   0.0021 0.9978 -0.0092  0.0133  False\n",
            "Bagging_KNN     Tree  -0.0558    0.0 -0.0671 -0.0445   True\n",
            "Bagging_KNN      XGB   0.0015 0.9996 -0.0098  0.0128  False\n",
            "        Knn       Rn   0.0011 0.9999 -0.0102  0.0123  False\n",
            "        Knn      SVM  -0.0002    1.0 -0.0115   0.011  False\n",
            "        Knn Stacking   0.0018 0.9989 -0.0094  0.0131  False\n",
            "        Knn     Tree   -0.056    0.0 -0.0673 -0.0448   True\n",
            "        Knn      XGB   0.0013 0.9999   -0.01  0.0126  False\n",
            "         Rn      SVM  -0.0013 0.9998 -0.0126    0.01  False\n",
            "         Rn Stacking   0.0008    1.0 -0.0105   0.012  False\n",
            "         Rn     Tree  -0.0571    0.0 -0.0684 -0.0458   True\n",
            "         Rn      XGB   0.0002    1.0 -0.0111  0.0115  False\n",
            "        SVM Stacking   0.0021 0.9978 -0.0092  0.0133  False\n",
            "        SVM     Tree  -0.0558    0.0 -0.0671 -0.0445   True\n",
            "        SVM      XGB   0.0015 0.9996 -0.0098  0.0128  False\n",
            "   Stacking     Tree  -0.0579    0.0 -0.0691 -0.0466   True\n",
            "   Stacking      XGB  -0.0006    1.0 -0.0118  0.0107  False\n",
            "       Tree      XGB   0.0573    0.0   0.046  0.0686   True\n",
            "-----------------------------------------------------------\n"
          ]
        },
        {
          "data": {
            "image/png": "[encoded data removed]",
            "text/plain": [
              "<Figure size 640x480 with 1 Axes>"
            ]
          },
          "metadata": {},
          "output_type": "display_data"
        }
      ],
      "source": [
        "from scipy.stats import f_oneway\n",
        "from statsmodels.stats.multicomp import pairwise_tukeyhsd\n",
        "import seaborn as sns\n",
        "\n",
        "\n",
        "# 1. ANOVA: ¿Existen diferencias significativas entre al menos dos modelos?\n",
        "f_stat, p_value = f_oneway(*f1_scores.values())\n",
        "print(f\"Resultado ANOVA: p-valor = {p_value:.4f}\")\n",
        "\n",
        "# 2. Solo si ANOVA es significativa (p < 0.05), aplica Tukey HSD\n",
        "if p_value < 0.05:\n",
        "    print(\"\\nDiferencias globales detectadas. Procediendo con Tukey HSD...\")\n",
        "    # Preparar datos para Tukey (ya lo tienes)\n",
        "    datos_tukey_full = pd.DataFrame({\n",
        "        'f1': np.concatenate([scores for scores in f1_scores.values()]),\n",
        "        'modelo': np.concatenate([[model] * len(scores) for model, scores in f1_scores.items()])\n",
        "    })\n",
        "\n",
        "    tukey_full = pairwise_tukeyhsd(datos_tukey_full['f1'], datos_tukey_full['modelo'], alpha=0.05)\n",
        "    print(tukey_full)\n",
        "\n",
        "    # Visualización (opcional)\n",
        "    sns.boxplot(data=pd.DataFrame(f1_scores))\n",
        "    plt.title(\"Distribución de F1-score por modelo\")\n",
        "    plt.xticks(rotation=45)\n",
        "    plt.show()\n",
        "else:\n",
        "    print(\"\\nNo hay diferencias significativas entre los modelos (p ≥ 0.05).\")"
      ]
    },
    {
      "cell_type": "markdown",
      "metadata": {
        "id": "UBSFwfUwBr2j"
      },
      "source": [
        "##9. Modelos seleccionados\n",
        "los 3 mejores modelos son RN, SVM y Knn porque no tienen diferencia estadística significativa con los demás y tienen menor complejidad computacional que los modelos de ensambles"
      ]
    },
    {
      "cell_type": "markdown",
      "metadata": {
        "id": "OQLTHX_KRGkC"
      },
      "source": [
        "##10. Hiperparametrización\n",
        "Se toman los datos divididos en 70-30 con el balanceo con SMOTE en el 70% de los datos"
      ]
    },
    {
      "cell_type": "markdown",
      "metadata": {
        "id": "LqDIsfjzcxbu"
      },
      "source": [
        "###10.1. Knn"
      ]
    },
    {
      "cell_type": "code",
      "execution_count": null,
      "metadata": {
        "colab": {
          "background_save": true
        },
        "id": "_d7a-bBDatar",
        "outputId": "6438dfb5-c81e-4392-b224-5916f9e13c09"
      },
      "outputs": [
        {
          "name": "stdout",
          "output_type": "stream",
          "text": [
            "Mejores parámetros Knn: {'metric': 'euclidean', 'n_neighbors': 7, 'weights': 'distance'}\n",
            "Mejor F1-score (val. cruzada): 0.9741158789369596\n"
          ]
        }
      ],
      "source": [
        "from sklearn.neighbors import KNeighborsClassifier\n",
        "from sklearn.model_selection import GridSearchCV\n",
        "\n",
        "# Modelo base\n",
        "modelKnn = KNeighborsClassifier()\n",
        "\n",
        "# Espacio de búsqueda de hiperparámetros\n",
        "param_grid_knn = {\n",
        "    'n_neighbors': [1, 3, 5, 7, 13, 27],\n",
        "    'metric': ['euclidean', 'minkowski'],\n",
        "    'weights': ['uniform', 'distance']  # Ponderar por distancia\n",
        "}\n",
        "\n",
        "# Búsqueda en grid\n",
        "grid_knn = GridSearchCV(\n",
        "    estimator=modelKnn,\n",
        "    param_grid=param_grid_knn,\n",
        "    scoring='f1_weighted',  # Usar la misma métrica que en tu evaluación\n",
        "    cv=10,\n",
        "    n_jobs=-1\n",
        ")\n",
        "grid_knn.fit(X_train_smote, Y_train_smote)  # Asegúrate de que y_train está correctamente definido\n",
        "\n",
        "# Guardar el mejor modelo\n",
        "best_knn = grid_knn.best_estimator_\n",
        "print(\"Mejores parámetros Knn:\", grid_knn.best_params_)\n",
        "print(\"Mejor F1-score (val. cruzada):\", grid_knn.best_score_)"
      ]
    },
    {
      "cell_type": "code",
      "execution_count": null,
      "metadata": {
        "colab": {
          "background_save": true
        },
        "id": "Fd96siWXiuB4",
        "outputId": "9f57bbcd-1ebe-4969-e842-2bb7d886332a"
      },
      "outputs": [
        {
          "name": "stdout",
          "output_type": "stream",
          "text": [
            "                        Knn\n",
            "f1_weighted de CV  0.974116\n"
          ]
        }
      ],
      "source": [
        "#Medida de evaluación del mejor modelo\n",
        "medidas= pd.DataFrame(index=['f1_weighted de CV'])\n",
        "medidas['Knn']=grid_knn.best_score_\n",
        "print(medidas)"
      ]
    },
    {
      "cell_type": "code",
      "execution_count": null,
      "metadata": {
        "colab": {
          "background_save": true
        },
        "id": "gk7LJBZeWz2_",
        "outputId": "f9a3d2ab-b7a8-47c6-eac9-c9e650a49bcc"
      },
      "outputs": [
        {
          "name": "stdout",
          "output_type": "stream",
          "text": [
            "              precision    recall  f1-score   support\n",
            "\n",
            "           0       0.96      0.99      0.97      1831\n",
            "           1       0.25      0.12      0.17         8\n",
            "           2       0.98      0.95      0.96      1209\n",
            "\n",
            "    accuracy                           0.97      3048\n",
            "   macro avg       0.73      0.69      0.70      3048\n",
            "weighted avg       0.97      0.97      0.97      3048\n",
            "\n"
          ]
        }
      ],
      "source": [
        "from sklearn.metrics import classification_report\n",
        "\n",
        "y_pred = grid_knn.best_estimator_.predict(X_test)\n",
        "\n",
        "print(classification_report(Y_test, y_pred))"
      ]
    },
    {
      "cell_type": "markdown",
      "metadata": {
        "id": "yXZ9W5y-giR_"
      },
      "source": [
        "###10.2. Red neuronal"
      ]
    },
    {
      "cell_type": "code",
      "execution_count": null,
      "metadata": {
        "colab": {
          "base_uri": "https://localhost:8080/"
        },
        "id": "91wOkacUgPWP",
        "outputId": "fcde6466-845f-47b9-b346-536b19e3814b"
      },
      "outputs": [
        {
          "output_type": "stream",
          "name": "stdout",
          "text": [
            "Mejores parámetros Rn: {'activation': 'relu', 'hidden_layer_sizes': (20,), 'learning_rate': 'constant', 'learning_rate_init': 0.5, 'max_iter': 500, 'momentum': 0.5, 'random_state': 1, 'solver': 'sgd'}\n",
            "Mejor F1-score (val. cruzada): 0.9749820411193955\n"
          ]
        }
      ],
      "source": [
        "from sklearn.neural_network import MLPClassifier\n",
        "\n",
        "# Modelo base\n",
        "modelRn = MLPClassifier(early_stopping=True)\n",
        "\n",
        "# Espacio de búsqueda\n",
        "param_grid_rn = {\n",
        "    'random_state': [1],  # Fijar la semilla para reproducibilidad\n",
        "    'hidden_layer_sizes': [(20,), (50,), (50, 50)],\n",
        "    'activation': ['relu', 'logistic'],\n",
        "    'learning_rate_init': [0.2, 0.5],  # Regularización L2\n",
        "    'learning_rate': ['constant', 'adaptive'],\n",
        "    'solver': ['sgd'],\n",
        "    'max_iter': [500, 100],\n",
        "    'momentum': [0.3, 0.5, 1.0]\n",
        "}\n",
        "\n",
        "# GridSearch\n",
        "grid_rn = GridSearchCV(\n",
        "    estimator=modelRn,\n",
        "    param_grid=param_grid_rn,\n",
        "    scoring='f1_weighted',\n",
        "    cv=10,\n",
        "    n_jobs=-1\n",
        ")\n",
        "grid_rn.fit(X_train_smote, Y_train_smote)\n",
        "\n",
        "# Guardar el mejor modelo\n",
        "best_rn = grid_rn.best_estimator_\n",
        "print(\"Mejores parámetros Rn:\", grid_rn.best_params_)\n",
        "print(\"Mejor F1-score (val. cruzada):\", grid_rn.best_score_)"
      ]
    },
    {
      "cell_type": "code",
      "execution_count": null,
      "metadata": {
        "colab": {
          "base_uri": "https://localhost:8080/"
        },
        "id": "7qYhJ4d1PYKB",
        "outputId": "fdd5a67e-22f3-478b-9921-aa874245fbc3"
      },
      "outputs": [
        {
          "metadata": {
            "tags": null
          },
          "name": "stdout",
          "output_type": "stream",
          "text": [
            "                        Knn        Rn\n",
            "f1_weighted de CV  0.974116  0.974982\n"
          ]
        }
      ],
      "source": [
        "#Medida de evaluación del mejor modelo\n",
        "medidas['Rn']=grid_rn.best_score_\n",
        "print(medidas)"
      ]
    },
    {
      "cell_type": "code",
      "execution_count": null,
      "metadata": {
        "colab": {
          "base_uri": "https://localhost:8080/"
        },
        "id": "gHRxjU4wXcB4",
        "outputId": "aa7e89be-81be-4b04-8063-8cf7dec1dcc3"
      },
      "outputs": [
        {
          "output_type": "stream",
          "name": "stdout",
          "text": [
            "              precision    recall  f1-score   support\n",
            "\n",
            "           0       0.96      0.99      0.98      1831\n",
            "           1       0.50      0.25      0.33         8\n",
            "           2       0.99      0.95      0.97      1209\n",
            "\n",
            "    accuracy                           0.97      3048\n",
            "   macro avg       0.82      0.73      0.76      3048\n",
            "weighted avg       0.97      0.97      0.97      3048\n",
            "\n"
          ]
        }
      ],
      "source": [
        "from sklearn.metrics import classification_report\n",
        "\n",
        "y_pred = grid_rn.best_estimator_.predict(X_test)\n",
        "\n",
        "print(classification_report(Y_test, y_pred))"
      ]
    },
    {
      "cell_type": "markdown",
      "metadata": {
        "id": "xC2nwBv8XVKY"
      },
      "source": [
        "###10.3. SVM"
      ]
    },
    {
      "cell_type": "code",
      "execution_count": null,
      "metadata": {
        "colab": {
          "base_uri": "https://localhost:8080/"
        },
        "id": "Pm2O3o1DPqww",
        "outputId": "d8d53de1-7b94-4fae-97f9-aec6ae92b214"
      },
      "outputs": [
        {
          "output_type": "stream",
          "name": "stdout",
          "text": [
            "Mejores parámetros SVM: {'C': 0.1, 'gamma': 5, 'kernel': 'poly'}\n",
            "Mejor F1-score (val. cruzada): 0.97552906250399\n"
          ]
        }
      ],
      "source": [
        "#SVM\n",
        "from sklearn.svm import SVC\n",
        "\n",
        "# Modelo base\n",
        "modelSVM = SVC(probability=True)  # probability=True para permitir predict_proba\n",
        "\n",
        "# Espacio de búsqueda\n",
        "param_grid_svm = {\n",
        "    'C': [0.1, 1, 10],\n",
        "    'kernel': ['linear', 'rbf', 'poly'],\n",
        "    'gamma': ['scale', 'auto'] + [0.01, 5, 3]\n",
        "}\n",
        "\n",
        "# GridSearch\n",
        "grid_svm = GridSearchCV(\n",
        "    estimator=modelSVM,\n",
        "    param_grid=param_grid_svm,\n",
        "    scoring='f1_weighted',\n",
        "    cv=10,\n",
        "    n_jobs=-1\n",
        ")\n",
        "grid_svm.fit(X_train_smote, Y_train_smote)\n",
        "\n",
        "# Guardar el mejor modelo\n",
        "best_svm = grid_svm.best_estimator_\n",
        "print(\"Mejores parámetros SVM:\", grid_svm.best_params_)\n",
        "print(\"Mejor F1-score (val. cruzada):\", grid_svm.best_score_)"
      ]
    },
    {
      "cell_type": "code",
      "execution_count": null,
      "metadata": {
        "colab": {
          "base_uri": "https://localhost:8080/"
        },
        "id": "5MPNRceBmoV8",
        "outputId": "3141f5a2-7f44-4434-ee6c-67b3255b82bc"
      },
      "outputs": [
        {
          "output_type": "stream",
          "name": "stdout",
          "text": [
            "                        Knn        Rn       SVM\n",
            "f1_weighted de CV  0.974116  0.974982  0.975529\n"
          ]
        }
      ],
      "source": [
        "#Medida de evaluación del mejor modelo\n",
        "medidas['SVM']=grid_svm.best_score_\n",
        "print(medidas)"
      ]
    },
    {
      "cell_type": "code",
      "execution_count": null,
      "metadata": {
        "colab": {
          "base_uri": "https://localhost:8080/"
        },
        "id": "vXp27TXuXhUR",
        "outputId": "2916c931-1095-4f37-f877-d3498ca72f77"
      },
      "outputs": [
        {
          "output_type": "stream",
          "name": "stdout",
          "text": [
            "              precision    recall  f1-score   support\n",
            "\n",
            "           0       0.96      0.99      0.98      1831\n",
            "           1       0.75      0.38      0.50         8\n",
            "           2       0.99      0.95      0.97      1209\n",
            "\n",
            "    accuracy                           0.97      3048\n",
            "   macro avg       0.90      0.77      0.81      3048\n",
            "weighted avg       0.97      0.97      0.97      3048\n",
            "\n"
          ]
        }
      ],
      "source": [
        "from sklearn.metrics import classification_report\n",
        "\n",
        "y_pred = grid_svm.best_estimator_.predict(X_test)\n",
        "\n",
        "print(classification_report(Y_test, y_pred))"
      ]
    },
    {
      "cell_type": "markdown",
      "metadata": {
        "id": "xo5u0m2ZUDUB"
      },
      "source": [
        "##11. Optimización Bayesiana"
      ]
    },
    {
      "cell_type": "code",
      "execution_count": null,
      "metadata": {
        "colab": {
          "background_save": true
        },
        "id": "rWPM6m21NgGe"
      },
      "outputs": [],
      "source": [
        "!pip install scikit-optimize"
      ]
    },
    {
      "cell_type": "code",
      "execution_count": null,
      "metadata": {
        "id": "AyHLhDChWTW-"
      },
      "outputs": [],
      "source": [
        "from skopt.space import Real, Integer, Categorical\n",
        "from skopt import BayesSearchCV\n",
        "from sklearn.metrics import classification_report, f1_score\n",
        "import matplotlib.pyplot as plt\n",
        "\n",
        "# Configuración general\n",
        "n_iter = 50  # Número de iteraciones de búsqueda\n",
        "cv = 10      # Número de folds en validación cruzada\n",
        "scoring = 'f1_weighted'  # Métrica a optimizar"
      ]
    },
    {
      "cell_type": "markdown",
      "metadata": {
        "id": "JEo3bZHuhFsT"
      },
      "source": [
        "###11.1. Knn"
      ]
    },
    {
      "cell_type": "code",
      "execution_count": null,
      "metadata": {
        "colab": {
          "base_uri": "https://localhost:8080/"
        },
        "id": "b6R7hAz0hEEa",
        "outputId": "2ddf5a64-a051-44a1-a198-40f87b5d408c"
      },
      "outputs": [
        {
          "output_type": "stream",
          "name": "stdout",
          "text": [
            "Mejores parámetros KNN: OrderedDict([('metric', 'manhattan'), ('n_neighbors', 21), ('weights', 'distance')])\n",
            "              precision    recall  f1-score   support\n",
            "\n",
            "           0       0.96      0.99      0.97      1831\n",
            "           1       0.20      0.12      0.15         8\n",
            "           2       0.98      0.95      0.96      1209\n",
            "\n",
            "    accuracy                           0.97      3048\n",
            "   macro avg       0.72      0.69      0.70      3048\n",
            "weighted avg       0.97      0.97      0.97      3048\n",
            "\n"
          ]
        }
      ],
      "source": [
        "from sklearn.neighbors import KNeighborsClassifier\n",
        "\n",
        "# Espacio de hiperparámetros para KNN\n",
        "param_grid_knn = {\n",
        "    'n_neighbors': Integer(1, 30),  # Rango típico para K\n",
        "    'weights': Categorical(['uniform', 'distance']),\n",
        "    'metric': Categorical(['euclidean', 'manhattan']),\n",
        "}\n",
        "\n",
        "# Búsqueda Bayesiana\n",
        "bayes_knn = BayesSearchCV(\n",
        "    estimator=KNeighborsClassifier(),\n",
        "    search_spaces=param_grid_knn,\n",
        "    n_iter=n_iter,\n",
        "    cv=cv,\n",
        "    n_jobs=-1,\n",
        "    scoring=scoring,\n",
        "    refit=True\n",
        ")\n",
        "\n",
        "bayes_knn.fit(X_train_smote, Y_train_smote)\n",
        "\n",
        "# Mejor modelo y parámetros\n",
        "best_knn = bayes_knn.best_estimator_\n",
        "print(\"Mejores parámetros KNN:\", bayes_knn.best_params_)\n",
        "\n",
        "# Evaluación en test\n",
        "y_pred_knn = best_knn.predict(X_test)\n",
        "print(classification_report(Y_test, y_pred_knn))"
      ]
    },
    {
      "cell_type": "code",
      "source": [
        "#Gráfica Valor Real vs Predicción\n",
        "plt.scatter(Y_test, y_pred_knn)\n",
        "plt.plot([Y_test.min(), Y_test.max()], [Y_test.min(), Y_test.max()],'k--', color = 'black', lw=2)\n",
        "plt.xlabel('Valor real')\n",
        "plt.ylabel('Valor del modelo')\n",
        "plt.title('Valor Real vs Predicción Random Search')\n",
        "plt.show() # Mostrar la grafica luego de que ya se definio todos los elementos"
      ],
      "metadata": {
        "colab": {
          "base_uri": "https://localhost:8080/",
          "height": 507
        },
        "id": "vz0ORWRhpWl5",
        "outputId": "377d655a-d819-47ec-ccd4-c06a3ddfde1a"
      },
      "execution_count": null,
      "outputs": [
        {
          "output_type": "stream",
          "name": "stderr",
          "text": [
            "<ipython-input-68-263098d70000>:3: UserWarning: color is redundantly defined by the 'color' keyword argument and the fmt string \"k--\" (-> color='k'). The keyword argument will take precedence.\n",
            "  plt.plot([Y_test.min(), Y_test.max()], [Y_test.min(), Y_test.max()],'k--', color = 'black', lw=2)\n"
          ]
        },
        {
          "output_type": "display_data",
          "data": {
            "text/plain": [
              "<Figure size 640x480 with 1 Axes>"
            ],
            "image/png": "[encoded data removed]"
          },
          "metadata": {}
        }
      ]
    },
    {
      "cell_type": "markdown",
      "metadata": {
        "id": "y55bfBoFiWJY"
      },
      "source": [
        "###11.2. Red neuronal"
      ]
    },
    {
      "cell_type": "code",
      "execution_count": null,
      "metadata": {
        "colab": {
          "base_uri": "https://localhost:8080/"
        },
        "id": "4vwEoPdXiax5",
        "outputId": "4de6a246-ffc2-4b6c-dd4b-98b0b282a125"
      },
      "outputs": [
        {
          "output_type": "stream",
          "name": "stdout",
          "text": [
            "Mejores parámetros Red Neuronal: OrderedDict([('alpha', 0.0005783555388950138), ('hidden_layer_sizes', 96), ('learning_rate', 'adaptive')])\n",
            "              precision    recall  f1-score   support\n",
            "\n",
            "           0       0.96      0.99      0.98      1831\n",
            "           1       0.33      0.12      0.18         8\n",
            "           2       0.99      0.95      0.97      1209\n",
            "\n",
            "    accuracy                           0.97      3048\n",
            "   macro avg       0.76      0.69      0.71      3048\n",
            "weighted avg       0.97      0.97      0.97      3048\n",
            "\n"
          ]
        }
      ],
      "source": [
        "from sklearn.neural_network import MLPClassifier\n",
        "\n",
        "# Espacio de hiperparámetros para Red Neuronal\n",
        "param_grid_rn = {\n",
        "    'hidden_layer_sizes': Integer(50, 100),  # Número de neuronas en capa oculta\n",
        "    'alpha': Real(1e-5, 1e-1, prior='log-uniform'),\n",
        "    'learning_rate': Categorical(['constant', 'adaptive']),\n",
        "}\n",
        "\n",
        "# Búsqueda Bayesiana\n",
        "bayes_rn = BayesSearchCV(\n",
        "    estimator=MLPClassifier(max_iter=1000, early_stopping=True),\n",
        "    search_spaces=param_grid_rn,\n",
        "    n_iter=n_iter,\n",
        "    cv=cv,\n",
        "    n_jobs=-1,\n",
        "    scoring=scoring,\n",
        "    refit=True\n",
        ")\n",
        "\n",
        "bayes_rn.fit(X_train_smote, Y_train_smote)\n",
        "\n",
        "# Mejor modelo y parámetros\n",
        "best_rn = bayes_rn.best_estimator_\n",
        "print(\"Mejores parámetros Red Neuronal:\", bayes_rn.best_params_)\n",
        "\n",
        "# Evaluación en test\n",
        "y_pred_rn = best_rn.predict(X_test)\n",
        "print(classification_report(Y_test, y_pred_rn))"
      ]
    },
    {
      "cell_type": "code",
      "source": [
        "#Gráfica Valor Real vs Predicción\n",
        "plt.scatter(Y_test, y_pred_rn)\n",
        "plt.plot([Y_test.min(), Y_test.max()], [Y_test.min(), Y_test.max()],'k--', color = 'black', lw=2)\n",
        "plt.xlabel('Valor real')\n",
        "plt.ylabel('Valor del modelo')\n",
        "plt.title('Valor Real vs Predicción Random Search')\n",
        "plt.show() # Mostrar la grafica luego de que ya se definio todos los elementos"
      ],
      "metadata": {
        "colab": {
          "base_uri": "https://localhost:8080/",
          "height": 507
        },
        "id": "T5f7Gi_dpQ1v",
        "outputId": "6f2460a0-a38b-4311-b69d-9f56470d2752"
      },
      "execution_count": null,
      "outputs": [
        {
          "output_type": "stream",
          "name": "stderr",
          "text": [
            "<ipython-input-67-6b071c5f1368>:3: UserWarning: color is redundantly defined by the 'color' keyword argument and the fmt string \"k--\" (-> color='k'). The keyword argument will take precedence.\n",
            "  plt.plot([Y_test.min(), Y_test.max()], [Y_test.min(), Y_test.max()],'k--', color = 'black', lw=2)\n"
          ]
        },
        {
          "output_type": "display_data",
          "data": {
            "text/plain": [
              "<Figure size 640x480 with 1 Axes>"
            ],
            "image/png": "[encoded data removed]"
          },
          "metadata": {}
        }
      ]
    },
    {
      "cell_type": "markdown",
      "metadata": {
        "id": "AI2zFDA8i1Mr"
      },
      "source": [
        "###11.3. SVM"
      ]
    },
    {
      "cell_type": "code",
      "execution_count": null,
      "metadata": {
        "id": "3pjW3XeCi0m1",
        "colab": {
          "base_uri": "https://localhost:8080/"
        },
        "outputId": "d708cd9c-a72d-4ccb-b346-c6d9cdec5e4a"
      },
      "outputs": [
        {
          "output_type": "stream",
          "name": "stdout",
          "text": [
            "Mejores parámetros SVM: OrderedDict([('C', 0.620563390436533), ('gamma', 3.8191131320153193), ('kernel', 'poly')])\n",
            "              precision    recall  f1-score   support\n",
            "\n",
            "           0       0.96      0.99      0.98      1831\n",
            "           1       0.75      0.38      0.50         8\n",
            "           2       0.99      0.95      0.97      1209\n",
            "\n",
            "    accuracy                           0.97      3048\n",
            "   macro avg       0.90      0.77      0.81      3048\n",
            "weighted avg       0.97      0.97      0.97      3048\n",
            "\n"
          ]
        }
      ],
      "source": [
        "from sklearn.svm import SVC\n",
        "\n",
        "# Espacio de hiperparámetros para SVM\n",
        "param_grid_svm = {\n",
        "    'C': Real(0.01, 1),  # Rango amplio en escala logarítmica\n",
        "    'kernel': Categorical(['linear', 'rbf', 'poly']),\n",
        "    'gamma': Real(1e-3, 1e1),\n",
        "}\n",
        "\n",
        "# Búsqueda Bayesiana\n",
        "bayes_svm = BayesSearchCV(\n",
        "    estimator=SVC(probability=True),\n",
        "    search_spaces=param_grid_svm,\n",
        "    n_iter=n_iter,\n",
        "    cv=cv,\n",
        "    n_jobs=-1,\n",
        "    scoring=scoring,\n",
        "    refit=True\n",
        ")\n",
        "\n",
        "# Entrenamiento (usa los datos balanceados con SMOTE)\n",
        "bayes_svm.fit(X_train_smote, Y_train_smote)\n",
        "\n",
        "# Mejor modelo y parámetros\n",
        "best_svm = bayes_svm.best_estimator_\n",
        "print(\"Mejores parámetros SVM:\", bayes_svm.best_params_)\n",
        "\n",
        "# Evaluación en test (datos originales)\n",
        "y_pred_svm = best_svm.predict(X_test)\n",
        "print(classification_report(Y_test, y_pred_svm))"
      ]
    },
    {
      "cell_type": "code",
      "source": [
        "#Gráfica Valor Real vs Predicción\n",
        "plt.scatter(Y_test, y_pred_svm)\n",
        "plt.plot([Y_test.min(), Y_test.max()], [Y_test.min(), Y_test.max()],'k--', color = 'black', lw=2)\n",
        "plt.xlabel('Valor real')\n",
        "plt.ylabel('Valor del modelo')\n",
        "plt.title('Valor Real vs Predicción Random Search')\n",
        "plt.show() # Mostrar la grafica luego de que ya se definio todos los elementos"
      ],
      "metadata": {
        "colab": {
          "base_uri": "https://localhost:8080/",
          "height": 507
        },
        "id": "j1EE00ORpEwM",
        "outputId": "8ba5e632-cf5f-4f31-f410-ee4c67d48265"
      },
      "execution_count": null,
      "outputs": [
        {
          "output_type": "stream",
          "name": "stderr",
          "text": [
            "<ipython-input-66-4cca0b2240c1>:3: UserWarning: color is redundantly defined by the 'color' keyword argument and the fmt string \"k--\" (-> color='k'). The keyword argument will take precedence.\n",
            "  plt.plot([Y_test.min(), Y_test.max()], [Y_test.min(), Y_test.max()],'k--', color = 'black', lw=2)\n"
          ]
        },
        {
          "output_type": "display_data",
          "data": {
            "text/plain": [
              "<Figure size 640x480 with 1 Axes>"
            ],
            "image/png": "[encoded data removed]"
          },
          "metadata": {}
        }
      ]
    },
    {
      "cell_type": "code",
      "source": [
        "#Entrenar el mejor modelo\n",
        "best_svm.fit(X, Y)"
      ],
      "metadata": {
        "colab": {
          "base_uri": "https://localhost:8080/",
          "height": 98
        },
        "id": "3iOnS8L3pqfg",
        "outputId": "74ad268b-9069-415f-e164-9db44d45a1fd"
      },
      "execution_count": null,
      "outputs": [
        {
          "output_type": "execute_result",
          "data": {
            "text/plain": [
              "SVC(C=0.620563390436533, gamma=3.8191131320153193, kernel='poly',\n",
              "    probability=True)"
            ],
            "text/html": [
              "<style>#sk-container-id-3 {\n",
              "  /* Definition of color scheme common for light and dark mode */\n",
              "  --sklearn-color-text: #000;\n",
              "  --sklearn-color-text-muted: #666;\n",
              "  --sklearn-color-line: gray;\n",
              "  /* Definition of color scheme for unfitted estimators */\n",
              "  --sklearn-color-unfitted-level-0: #fff5e6;\n",
              "  --sklearn-color-unfitted-level-1: #f6e4d2;\n",
              "  --sklearn-color-unfitted-level-2: #ffe0b3;\n",
              "  --sklearn-color-unfitted-level-3: chocolate;\n",
              "  /* Definition of color scheme for fitted estimators */\n",
              "  --sklearn-color-fitted-level-0: #f0f8ff;\n",
              "  --sklearn-color-fitted-level-1: #d4ebff;\n",
              "  --sklearn-color-fitted-level-2: #b3dbfd;\n",
              "  --sklearn-color-fitted-level-3: cornflowerblue;\n",
              "\n",
              "  /* Specific color for light theme */\n",
              "  --sklearn-color-text-on-default-background: var(--sg-text-color, var(--theme-code-foreground, var(--jp-content-font-color1, black)));\n",
              "  --sklearn-color-background: var(--sg-background-color, var(--theme-background, var(--jp-layout-color0, white)));\n",
              "  --sklearn-color-border-box: var(--sg-text-color, var(--theme-code-foreground, var(--jp-content-font-color1, black)));\n",
              "  --sklearn-color-icon: #696969;\n",
              "\n",
              "  @media (prefers-color-scheme: dark) {\n",
              "    /* Redefinition of color scheme for dark theme */\n",
              "    --sklearn-color-text-on-default-background: var(--sg-text-color, var(--theme-code-foreground, var(--jp-content-font-color1, white)));\n",
              "    --sklearn-color-background: var(--sg-background-color, var(--theme-background, var(--jp-layout-color0, #111)));\n",
              "    --sklearn-color-border-box: var(--sg-text-color, var(--theme-code-foreground, var(--jp-content-font-color1, white)));\n",
              "    --sklearn-color-icon: #878787;\n",
              "  }\n",
              "}\n",
              "\n",
              "#sk-container-id-3 {\n",
              "  color: var(--sklearn-color-text);\n",
              "}\n",
              "\n",
              "#sk-container-id-3 pre {\n",
              "  padding: 0;\n",
              "}\n",
              "\n",
              "#sk-container-id-3 input.sk-hidden--visually {\n",
              "  border: 0;\n",
              "  clip: rect(1px 1px 1px 1px);\n",
              "  clip: rect(1px, 1px, 1px, 1px);\n",
              "  height: 1px;\n",
              "  margin: -1px;\n",
              "  overflow: hidden;\n",
              "  padding: 0;\n",
              "  position: absolute;\n",
              "  width: 1px;\n",
              "}\n",
              "\n",
              "#sk-container-id-3 div.sk-dashed-wrapped {\n",
              "  border: 1px dashed var(--sklearn-color-line);\n",
              "  margin: 0 0.4em 0.5em 0.4em;\n",
              "  box-sizing: border-box;\n",
              "  padding-bottom: 0.4em;\n",
              "  background-color: var(--sklearn-color-background);\n",
              "}\n",
              "\n",
              "#sk-container-id-3 div.sk-container {\n",
              "  /* jupyter's `normalize.less` sets `[hidden] { display: none; }`\n",
              "     but bootstrap.min.css set `[hidden] { display: none !important; }`\n",
              "     so we also need the `!important` here to be able to override the\n",
              "     default hidden behavior on the sphinx rendered scikit-learn.org.\n",
              "     See: https://github.com/scikit-learn/scikit-learn/issues/21755 */\n",
              "  display: inline-block !important;\n",
              "  position: relative;\n",
              "}\n",
              "\n",
              "#sk-container-id-3 div.sk-text-repr-fallback {\n",
              "  display: none;\n",
              "}\n",
              "\n",
              "div.sk-parallel-item,\n",
              "div.sk-serial,\n",
              "div.sk-item {\n",
              "  /* draw centered vertical line to link estimators */\n",
              "  background-image: linear-gradient(var(--sklearn-color-text-on-default-background), var(--sklearn-color-text-on-default-background));\n",
              "  background-size: 2px 100%;\n",
              "  background-repeat: no-repeat;\n",
              "  background-position: center center;\n",
              "}\n",
              "\n",
              "/* Parallel-specific style estimator block */\n",
              "\n",
              "#sk-container-id-3 div.sk-parallel-item::after {\n",
              "  content: \"\";\n",
              "  width: 100%;\n",
              "  border-bottom: 2px solid var(--sklearn-color-text-on-default-background);\n",
              "  flex-grow: 1;\n",
              "}\n",
              "\n",
              "#sk-container-id-3 div.sk-parallel {\n",
              "  display: flex;\n",
              "  align-items: stretch;\n",
              "  justify-content: center;\n",
              "  background-color: var(--sklearn-color-background);\n",
              "  position: relative;\n",
              "}\n",
              "\n",
              "#sk-container-id-3 div.sk-parallel-item {\n",
              "  display: flex;\n",
              "  flex-direction: column;\n",
              "}\n",
              "\n",
              "#sk-container-id-3 div.sk-parallel-item:first-child::after {\n",
              "  align-self: flex-end;\n",
              "  width: 50%;\n",
              "}\n",
              "\n",
              "#sk-container-id-3 div.sk-parallel-item:last-child::after {\n",
              "  align-self: flex-start;\n",
              "  width: 50%;\n",
              "}\n",
              "\n",
              "#sk-container-id-3 div.sk-parallel-item:only-child::after {\n",
              "  width: 0;\n",
              "}\n",
              "\n",
              "/* Serial-specific style estimator block */\n",
              "\n",
              "#sk-container-id-3 div.sk-serial {\n",
              "  display: flex;\n",
              "  flex-direction: column;\n",
              "  align-items: center;\n",
              "  background-color: var(--sklearn-color-background);\n",
              "  padding-right: 1em;\n",
              "  padding-left: 1em;\n",
              "}\n",
              "\n",
              "\n",
              "/* Toggleable style: style used for estimator/Pipeline/ColumnTransformer box that is\n",
              "clickable and can be expanded/collapsed.\n",
              "- Pipeline and ColumnTransformer use this feature and define the default style\n",
              "- Estimators will overwrite some part of the style using the `sk-estimator` class\n",
              "*/\n",
              "\n",
              "/* Pipeline and ColumnTransformer style (default) */\n",
              "\n",
              "#sk-container-id-3 div.sk-toggleable {\n",
              "  /* Default theme specific background. It is overwritten whether we have a\n",
              "  specific estimator or a Pipeline/ColumnTransformer */\n",
              "  background-color: var(--sklearn-color-background);\n",
              "}\n",
              "\n",
              "/* Toggleable label */\n",
              "#sk-container-id-3 label.sk-toggleable__label {\n",
              "  cursor: pointer;\n",
              "  display: flex;\n",
              "  width: 100%;\n",
              "  margin-bottom: 0;\n",
              "  padding: 0.5em;\n",
              "  box-sizing: border-box;\n",
              "  text-align: center;\n",
              "  align-items: start;\n",
              "  justify-content: space-between;\n",
              "  gap: 0.5em;\n",
              "}\n",
              "\n",
              "#sk-container-id-3 label.sk-toggleable__label .caption {\n",
              "  font-size: 0.6rem;\n",
              "  font-weight: lighter;\n",
              "  color: var(--sklearn-color-text-muted);\n",
              "}\n",
              "\n",
              "#sk-container-id-3 label.sk-toggleable__label-arrow:before {\n",
              "  /* Arrow on the left of the label */\n",
              "  content: \"▸\";\n",
              "  float: left;\n",
              "  margin-right: 0.25em;\n",
              "  color: var(--sklearn-color-icon);\n",
              "}\n",
              "\n",
              "#sk-container-id-3 label.sk-toggleable__label-arrow:hover:before {\n",
              "  color: var(--sklearn-color-text);\n",
              "}\n",
              "\n",
              "/* Toggleable content - dropdown */\n",
              "\n",
              "#sk-container-id-3 div.sk-toggleable__content {\n",
              "  max-height: 0;\n",
              "  max-width: 0;\n",
              "  overflow: hidden;\n",
              "  text-align: left;\n",
              "  /* unfitted */\n",
              "  background-color: var(--sklearn-color-unfitted-level-0);\n",
              "}\n",
              "\n",
              "#sk-container-id-3 div.sk-toggleable__content.fitted {\n",
              "  /* fitted */\n",
              "  background-color: var(--sklearn-color-fitted-level-0);\n",
              "}\n",
              "\n",
              "#sk-container-id-3 div.sk-toggleable__content pre {\n",
              "  margin: 0.2em;\n",
              "  border-radius: 0.25em;\n",
              "  color: var(--sklearn-color-text);\n",
              "  /* unfitted */\n",
              "  background-color: var(--sklearn-color-unfitted-level-0);\n",
              "}\n",
              "\n",
              "#sk-container-id-3 div.sk-toggleable__content.fitted pre {\n",
              "  /* unfitted */\n",
              "  background-color: var(--sklearn-color-fitted-level-0);\n",
              "}\n",
              "\n",
              "#sk-container-id-3 input.sk-toggleable__control:checked~div.sk-toggleable__content {\n",
              "  /* Expand drop-down */\n",
              "  max-height: 200px;\n",
              "  max-width: 100%;\n",
              "  overflow: auto;\n",
              "}\n",
              "\n",
              "#sk-container-id-3 input.sk-toggleable__control:checked~label.sk-toggleable__label-arrow:before {\n",
              "  content: \"▾\";\n",
              "}\n",
              "\n",
              "/* Pipeline/ColumnTransformer-specific style */\n",
              "\n",
              "#sk-container-id-3 div.sk-label input.sk-toggleable__control:checked~label.sk-toggleable__label {\n",
              "  color: var(--sklearn-color-text);\n",
              "  background-color: var(--sklearn-color-unfitted-level-2);\n",
              "}\n",
              "\n",
              "#sk-container-id-3 div.sk-label.fitted input.sk-toggleable__control:checked~label.sk-toggleable__label {\n",
              "  background-color: var(--sklearn-color-fitted-level-2);\n",
              "}\n",
              "\n",
              "/* Estimator-specific style */\n",
              "\n",
              "/* Colorize estimator box */\n",
              "#sk-container-id-3 div.sk-estimator input.sk-toggleable__control:checked~label.sk-toggleable__label {\n",
              "  /* unfitted */\n",
              "  background-color: var(--sklearn-color-unfitted-level-2);\n",
              "}\n",
              "\n",
              "#sk-container-id-3 div.sk-estimator.fitted input.sk-toggleable__control:checked~label.sk-toggleable__label {\n",
              "  /* fitted */\n",
              "  background-color: var(--sklearn-color-fitted-level-2);\n",
              "}\n",
              "\n",
              "#sk-container-id-3 div.sk-label label.sk-toggleable__label,\n",
              "#sk-container-id-3 div.sk-label label {\n",
              "  /* The background is the default theme color */\n",
              "  color: var(--sklearn-color-text-on-default-background);\n",
              "}\n",
              "\n",
              "/* On hover, darken the color of the background */\n",
              "#sk-container-id-3 div.sk-label:hover label.sk-toggleable__label {\n",
              "  color: var(--sklearn-color-text);\n",
              "  background-color: var(--sklearn-color-unfitted-level-2);\n",
              "}\n",
              "\n",
              "/* Label box, darken color on hover, fitted */\n",
              "#sk-container-id-3 div.sk-label.fitted:hover label.sk-toggleable__label.fitted {\n",
              "  color: var(--sklearn-color-text);\n",
              "  background-color: var(--sklearn-color-fitted-level-2);\n",
              "}\n",
              "\n",
              "/* Estimator label */\n",
              "\n",
              "#sk-container-id-3 div.sk-label label {\n",
              "  font-family: monospace;\n",
              "  font-weight: bold;\n",
              "  display: inline-block;\n",
              "  line-height: 1.2em;\n",
              "}\n",
              "\n",
              "#sk-container-id-3 div.sk-label-container {\n",
              "  text-align: center;\n",
              "}\n",
              "\n",
              "/* Estimator-specific */\n",
              "#sk-container-id-3 div.sk-estimator {\n",
              "  font-family: monospace;\n",
              "  border: 1px dotted var(--sklearn-color-border-box);\n",
              "  border-radius: 0.25em;\n",
              "  box-sizing: border-box;\n",
              "  margin-bottom: 0.5em;\n",
              "  /* unfitted */\n",
              "  background-color: var(--sklearn-color-unfitted-level-0);\n",
              "}\n",
              "\n",
              "#sk-container-id-3 div.sk-estimator.fitted {\n",
              "  /* fitted */\n",
              "  background-color: var(--sklearn-color-fitted-level-0);\n",
              "}\n",
              "\n",
              "/* on hover */\n",
              "#sk-container-id-3 div.sk-estimator:hover {\n",
              "  /* unfitted */\n",
              "  background-color: var(--sklearn-color-unfitted-level-2);\n",
              "}\n",
              "\n",
              "#sk-container-id-3 div.sk-estimator.fitted:hover {\n",
              "  /* fitted */\n",
              "  background-color: var(--sklearn-color-fitted-level-2);\n",
              "}\n",
              "\n",
              "/* Specification for estimator info (e.g. \"i\" and \"?\") */\n",
              "\n",
              "/* Common style for \"i\" and \"?\" */\n",
              "\n",
              ".sk-estimator-doc-link,\n",
              "a:link.sk-estimator-doc-link,\n",
              "a:visited.sk-estimator-doc-link {\n",
              "  float: right;\n",
              "  font-size: smaller;\n",
              "  line-height: 1em;\n",
              "  font-family: monospace;\n",
              "  background-color: var(--sklearn-color-background);\n",
              "  border-radius: 1em;\n",
              "  height: 1em;\n",
              "  width: 1em;\n",
              "  text-decoration: none !important;\n",
              "  margin-left: 0.5em;\n",
              "  text-align: center;\n",
              "  /* unfitted */\n",
              "  border: var(--sklearn-color-unfitted-level-1) 1pt solid;\n",
              "  color: var(--sklearn-color-unfitted-level-1);\n",
              "}\n",
              "\n",
              ".sk-estimator-doc-link.fitted,\n",
              "a:link.sk-estimator-doc-link.fitted,\n",
              "a:visited.sk-estimator-doc-link.fitted {\n",
              "  /* fitted */\n",
              "  border: var(--sklearn-color-fitted-level-1) 1pt solid;\n",
              "  color: var(--sklearn-color-fitted-level-1);\n",
              "}\n",
              "\n",
              "/* On hover */\n",
              "div.sk-estimator:hover .sk-estimator-doc-link:hover,\n",
              ".sk-estimator-doc-link:hover,\n",
              "div.sk-label-container:hover .sk-estimator-doc-link:hover,\n",
              ".sk-estimator-doc-link:hover {\n",
              "  /* unfitted */\n",
              "  background-color: var(--sklearn-color-unfitted-level-3);\n",
              "  color: var(--sklearn-color-background);\n",
              "  text-decoration: none;\n",
              "}\n",
              "\n",
              "div.sk-estimator.fitted:hover .sk-estimator-doc-link.fitted:hover,\n",
              ".sk-estimator-doc-link.fitted:hover,\n",
              "div.sk-label-container:hover .sk-estimator-doc-link.fitted:hover,\n",
              ".sk-estimator-doc-link.fitted:hover {\n",
              "  /* fitted */\n",
              "  background-color: var(--sklearn-color-fitted-level-3);\n",
              "  color: var(--sklearn-color-background);\n",
              "  text-decoration: none;\n",
              "}\n",
              "\n",
              "/* Span, style for the box shown on hovering the info icon */\n",
              ".sk-estimator-doc-link span {\n",
              "  display: none;\n",
              "  z-index: 9999;\n",
              "  position: relative;\n",
              "  font-weight: normal;\n",
              "  right: .2ex;\n",
              "  padding: .5ex;\n",
              "  margin: .5ex;\n",
              "  width: min-content;\n",
              "  min-width: 20ex;\n",
              "  max-width: 50ex;\n",
              "  color: var(--sklearn-color-text);\n",
              "  box-shadow: 2pt 2pt 4pt #999;\n",
              "  /* unfitted */\n",
              "  background: var(--sklearn-color-unfitted-level-0);\n",
              "  border: .5pt solid var(--sklearn-color-unfitted-level-3);\n",
              "}\n",
              "\n",
              ".sk-estimator-doc-link.fitted span {\n",
              "  /* fitted */\n",
              "  background: var(--sklearn-color-fitted-level-0);\n",
              "  border: var(--sklearn-color-fitted-level-3);\n",
              "}\n",
              "\n",
              ".sk-estimator-doc-link:hover span {\n",
              "  display: block;\n",
              "}\n",
              "\n",
              "/* \"?\"-specific style due to the `<a>` HTML tag */\n",
              "\n",
              "#sk-container-id-3 a.estimator_doc_link {\n",
              "  float: right;\n",
              "  font-size: 1rem;\n",
              "  line-height: 1em;\n",
              "  font-family: monospace;\n",
              "  background-color: var(--sklearn-color-background);\n",
              "  border-radius: 1rem;\n",
              "  height: 1rem;\n",
              "  width: 1rem;\n",
              "  text-decoration: none;\n",
              "  /* unfitted */\n",
              "  color: var(--sklearn-color-unfitted-level-1);\n",
              "  border: var(--sklearn-color-unfitted-level-1) 1pt solid;\n",
              "}\n",
              "\n",
              "#sk-container-id-3 a.estimator_doc_link.fitted {\n",
              "  /* fitted */\n",
              "  border: var(--sklearn-color-fitted-level-1) 1pt solid;\n",
              "  color: var(--sklearn-color-fitted-level-1);\n",
              "}\n",
              "\n",
              "/* On hover */\n",
              "#sk-container-id-3 a.estimator_doc_link:hover {\n",
              "  /* unfitted */\n",
              "  background-color: var(--sklearn-color-unfitted-level-3);\n",
              "  color: var(--sklearn-color-background);\n",
              "  text-decoration: none;\n",
              "}\n",
              "\n",
              "#sk-container-id-3 a.estimator_doc_link.fitted:hover {\n",
              "  /* fitted */\n",
              "  background-color: var(--sklearn-color-fitted-level-3);\n",
              "}\n",
              "</style><div id=\"sk-container-id-3\" class=\"sk-top-container\"><div class=\"sk-text-repr-fallback\"><pre>SVC(C=0.620563390436533, gamma=3.8191131320153193, kernel=&#x27;poly&#x27;,\n",
              "    probability=True)</pre><b>In a Jupyter environment, please rerun this cell to show the HTML representation or trust the notebook. <br />On GitHub, the HTML representation is unable to render, please try loading this page with nbviewer.org.</b></div><div class=\"sk-container\" hidden><div class=\"sk-item\"><div class=\"sk-estimator fitted sk-toggleable\"><input class=\"sk-toggleable__control sk-hidden--visually\" id=\"sk-estimator-id-3\" type=\"checkbox\" checked><label for=\"sk-estimator-id-3\" class=\"sk-toggleable__label fitted sk-toggleable__label-arrow\"><div><div>SVC</div></div><div><a class=\"sk-estimator-doc-link fitted\" rel=\"noreferrer\" target=\"_blank\" href=\"https://scikit-learn.org/1.6/modules/generated/sklearn.svm.SVC.html\">?<span>Documentation for SVC</span></a><span class=\"sk-estimator-doc-link fitted\">i<span>Fitted</span></span></div></label><div class=\"sk-toggleable__content fitted\"><pre>SVC(C=0.620563390436533, gamma=3.8191131320153193, kernel=&#x27;poly&#x27;,\n",
              "    probability=True)</pre></div> </div></div></div></div>"
            ]
          },
          "metadata": {},
          "execution_count": 73
        }
      ]
    },
    {
      "cell_type": "code",
      "source": [
        "#Se guarde el mejor modelo para despliegue con pickle\n",
        "import pickle\n",
        "filename = 'modeloSVM-clas-dengue.pkl'\n",
        "variables= X.columns._values\n",
        "pickle.dump([best_svm,labelencoder,variables], open(filename, 'wb')) #write"
      ],
      "metadata": {
        "id": "yZIdtjbVspBn"
      },
      "execution_count": null,
      "outputs": []
    }
  ],
  "metadata": {
    "accelerator": "GPU",
    "colab": {
      "collapsed_sections": [
        "9DS_gtazSrHZ",
        "e9PIVPovS1Dz",
        "TXFij5wKr3G0",
        "LvoK5lxvWv4K",
        "hFlojnnobThh",
        "1N8MD5AxUMLk",
        "JW-Zyha2iNzn",
        "JEo3bZHuhFsT",
        "y55bfBoFiWJY"
      ],
      "gpuType": "T4",
      "provenance": [],
      "authorship_tag": "ABX9TyMm9hOz6QcZR3i0ndrCxHXQ",
      "include_colab_link": true
    },
    "kernelspec": {
      "display_name": "Python 3",
      "name": "python3"
    },
    "language_info": {
      "name": "python"
    }
  },
  "nbformat": 4,
  "nbformat_minor": 0
}